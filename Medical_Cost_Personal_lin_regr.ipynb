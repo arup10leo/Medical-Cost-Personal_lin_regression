{
  "nbformat": 4,
  "nbformat_minor": 0,
  "metadata": {
    "colab": {
      "provenance": [],
      "toc_visible": true
    },
    "kernelspec": {
      "name": "python3",
      "display_name": "Python 3"
    },
    "language_info": {
      "name": "python"
    }
  },
  "cells": [
    {
      "cell_type": "markdown",
      "source": [
        "\n",
        "\n",
        "---Machine Learning with R by Brett Lantz is a book that provides an introduction to machine learning using R. As far as I can tell, Packt Publishing does not make its datasets available online unless you buy the book and create a user account which can be a problem if you are checking the book out from the library or borrowing the book from a friend. All of these datasets are in the public domain but simply needed some cleaning up and recoding to match the format in the book.\n",
        "\n"
      ],
      "metadata": {
        "id": "r5eUokI_TWsu"
      }
    },
    {
      "cell_type": "code",
      "execution_count": 2,
      "metadata": {
        "id": "87YLUSHN1WT4"
      },
      "outputs": [],
      "source": [
        "import numpy as np\n",
        "import pandas as pd\n",
        "import matplotlib.pyplot as plt\n",
        "import seaborn as sns\n",
        "%matplotlib inline\n"
      ]
    },
    {
      "cell_type": "code",
      "source": [
        "df = pd.read_csv(\"/content/insurance (1).csv\")\n",
        "df.head()"
      ],
      "metadata": {
        "colab": {
          "base_uri": "https://localhost:8080/",
          "height": 206
        },
        "id": "4zTaba3T6VxT",
        "outputId": "2f837318-fbdf-46c3-f9a2-67698a2d0ab4"
      },
      "execution_count": 3,
      "outputs": [
        {
          "output_type": "execute_result",
          "data": {
            "text/plain": [
              "   age     sex     bmi  children smoker     region      charges\n",
              "0   19  female  27.900         0    yes  southwest  16884.92400\n",
              "1   18    male  33.770         1     no  southeast   1725.55230\n",
              "2   28    male  33.000         3     no  southeast   4449.46200\n",
              "3   33    male  22.705         0     no  northwest  21984.47061\n",
              "4   32    male  28.880         0     no  northwest   3866.85520"
            ],
            "text/html": [
              "\n",
              "  <div id=\"df-55a9ac6b-0c02-4415-bfcd-213ff3732f75\">\n",
              "    <div class=\"colab-df-container\">\n",
              "      <div>\n",
              "<style scoped>\n",
              "    .dataframe tbody tr th:only-of-type {\n",
              "        vertical-align: middle;\n",
              "    }\n",
              "\n",
              "    .dataframe tbody tr th {\n",
              "        vertical-align: top;\n",
              "    }\n",
              "\n",
              "    .dataframe thead th {\n",
              "        text-align: right;\n",
              "    }\n",
              "</style>\n",
              "<table border=\"1\" class=\"dataframe\">\n",
              "  <thead>\n",
              "    <tr style=\"text-align: right;\">\n",
              "      <th></th>\n",
              "      <th>age</th>\n",
              "      <th>sex</th>\n",
              "      <th>bmi</th>\n",
              "      <th>children</th>\n",
              "      <th>smoker</th>\n",
              "      <th>region</th>\n",
              "      <th>charges</th>\n",
              "    </tr>\n",
              "  </thead>\n",
              "  <tbody>\n",
              "    <tr>\n",
              "      <th>0</th>\n",
              "      <td>19</td>\n",
              "      <td>female</td>\n",
              "      <td>27.900</td>\n",
              "      <td>0</td>\n",
              "      <td>yes</td>\n",
              "      <td>southwest</td>\n",
              "      <td>16884.92400</td>\n",
              "    </tr>\n",
              "    <tr>\n",
              "      <th>1</th>\n",
              "      <td>18</td>\n",
              "      <td>male</td>\n",
              "      <td>33.770</td>\n",
              "      <td>1</td>\n",
              "      <td>no</td>\n",
              "      <td>southeast</td>\n",
              "      <td>1725.55230</td>\n",
              "    </tr>\n",
              "    <tr>\n",
              "      <th>2</th>\n",
              "      <td>28</td>\n",
              "      <td>male</td>\n",
              "      <td>33.000</td>\n",
              "      <td>3</td>\n",
              "      <td>no</td>\n",
              "      <td>southeast</td>\n",
              "      <td>4449.46200</td>\n",
              "    </tr>\n",
              "    <tr>\n",
              "      <th>3</th>\n",
              "      <td>33</td>\n",
              "      <td>male</td>\n",
              "      <td>22.705</td>\n",
              "      <td>0</td>\n",
              "      <td>no</td>\n",
              "      <td>northwest</td>\n",
              "      <td>21984.47061</td>\n",
              "    </tr>\n",
              "    <tr>\n",
              "      <th>4</th>\n",
              "      <td>32</td>\n",
              "      <td>male</td>\n",
              "      <td>28.880</td>\n",
              "      <td>0</td>\n",
              "      <td>no</td>\n",
              "      <td>northwest</td>\n",
              "      <td>3866.85520</td>\n",
              "    </tr>\n",
              "  </tbody>\n",
              "</table>\n",
              "</div>\n",
              "      <button class=\"colab-df-convert\" onclick=\"convertToInteractive('df-55a9ac6b-0c02-4415-bfcd-213ff3732f75')\"\n",
              "              title=\"Convert this dataframe to an interactive table.\"\n",
              "              style=\"display:none;\">\n",
              "        \n",
              "  <svg xmlns=\"http://www.w3.org/2000/svg\" height=\"24px\"viewBox=\"0 0 24 24\"\n",
              "       width=\"24px\">\n",
              "    <path d=\"M0 0h24v24H0V0z\" fill=\"none\"/>\n",
              "    <path d=\"M18.56 5.44l.94 2.06.94-2.06 2.06-.94-2.06-.94-.94-2.06-.94 2.06-2.06.94zm-11 1L8.5 8.5l.94-2.06 2.06-.94-2.06-.94L8.5 2.5l-.94 2.06-2.06.94zm10 10l.94 2.06.94-2.06 2.06-.94-2.06-.94-.94-2.06-.94 2.06-2.06.94z\"/><path d=\"M17.41 7.96l-1.37-1.37c-.4-.4-.92-.59-1.43-.59-.52 0-1.04.2-1.43.59L10.3 9.45l-7.72 7.72c-.78.78-.78 2.05 0 2.83L4 21.41c.39.39.9.59 1.41.59.51 0 1.02-.2 1.41-.59l7.78-7.78 2.81-2.81c.8-.78.8-2.07 0-2.86zM5.41 20L4 18.59l7.72-7.72 1.47 1.35L5.41 20z\"/>\n",
              "  </svg>\n",
              "      </button>\n",
              "      \n",
              "  <style>\n",
              "    .colab-df-container {\n",
              "      display:flex;\n",
              "      flex-wrap:wrap;\n",
              "      gap: 12px;\n",
              "    }\n",
              "\n",
              "    .colab-df-convert {\n",
              "      background-color: #E8F0FE;\n",
              "      border: none;\n",
              "      border-radius: 50%;\n",
              "      cursor: pointer;\n",
              "      display: none;\n",
              "      fill: #1967D2;\n",
              "      height: 32px;\n",
              "      padding: 0 0 0 0;\n",
              "      width: 32px;\n",
              "    }\n",
              "\n",
              "    .colab-df-convert:hover {\n",
              "      background-color: #E2EBFA;\n",
              "      box-shadow: 0px 1px 2px rgba(60, 64, 67, 0.3), 0px 1px 3px 1px rgba(60, 64, 67, 0.15);\n",
              "      fill: #174EA6;\n",
              "    }\n",
              "\n",
              "    [theme=dark] .colab-df-convert {\n",
              "      background-color: #3B4455;\n",
              "      fill: #D2E3FC;\n",
              "    }\n",
              "\n",
              "    [theme=dark] .colab-df-convert:hover {\n",
              "      background-color: #434B5C;\n",
              "      box-shadow: 0px 1px 3px 1px rgba(0, 0, 0, 0.15);\n",
              "      filter: drop-shadow(0px 1px 2px rgba(0, 0, 0, 0.3));\n",
              "      fill: #FFFFFF;\n",
              "    }\n",
              "  </style>\n",
              "\n",
              "      <script>\n",
              "        const buttonEl =\n",
              "          document.querySelector('#df-55a9ac6b-0c02-4415-bfcd-213ff3732f75 button.colab-df-convert');\n",
              "        buttonEl.style.display =\n",
              "          google.colab.kernel.accessAllowed ? 'block' : 'none';\n",
              "\n",
              "        async function convertToInteractive(key) {\n",
              "          const element = document.querySelector('#df-55a9ac6b-0c02-4415-bfcd-213ff3732f75');\n",
              "          const dataTable =\n",
              "            await google.colab.kernel.invokeFunction('convertToInteractive',\n",
              "                                                     [key], {});\n",
              "          if (!dataTable) return;\n",
              "\n",
              "          const docLinkHtml = 'Like what you see? Visit the ' +\n",
              "            '<a target=\"_blank\" href=https://colab.research.google.com/notebooks/data_table.ipynb>data table notebook</a>'\n",
              "            + ' to learn more about interactive tables.';\n",
              "          element.innerHTML = '';\n",
              "          dataTable['output_type'] = 'display_data';\n",
              "          await google.colab.output.renderOutput(dataTable, element);\n",
              "          const docLink = document.createElement('div');\n",
              "          docLink.innerHTML = docLinkHtml;\n",
              "          element.appendChild(docLink);\n",
              "        }\n",
              "      </script>\n",
              "    </div>\n",
              "  </div>\n",
              "  "
            ]
          },
          "metadata": {},
          "execution_count": 3
        }
      ]
    },
    {
      "cell_type": "code",
      "source": [
        "df.shape"
      ],
      "metadata": {
        "colab": {
          "base_uri": "https://localhost:8080/"
        },
        "id": "JfP-CrEA6e0H",
        "outputId": "5f73b071-d166-4e81-d292-43ad9e85d541"
      },
      "execution_count": 4,
      "outputs": [
        {
          "output_type": "execute_result",
          "data": {
            "text/plain": [
              "(1338, 7)"
            ]
          },
          "metadata": {},
          "execution_count": 4
        }
      ]
    },
    {
      "cell_type": "code",
      "source": [
        "df.info()"
      ],
      "metadata": {
        "colab": {
          "base_uri": "https://localhost:8080/"
        },
        "id": "N6UAQ8PD6sjY",
        "outputId": "45ebf053-33da-4826-d073-a484c72e42e2"
      },
      "execution_count": 5,
      "outputs": [
        {
          "output_type": "stream",
          "name": "stdout",
          "text": [
            "<class 'pandas.core.frame.DataFrame'>\n",
            "RangeIndex: 1338 entries, 0 to 1337\n",
            "Data columns (total 7 columns):\n",
            " #   Column    Non-Null Count  Dtype  \n",
            "---  ------    --------------  -----  \n",
            " 0   age       1338 non-null   int64  \n",
            " 1   sex       1338 non-null   object \n",
            " 2   bmi       1338 non-null   float64\n",
            " 3   children  1338 non-null   int64  \n",
            " 4   smoker    1338 non-null   object \n",
            " 5   region    1338 non-null   object \n",
            " 6   charges   1338 non-null   float64\n",
            "dtypes: float64(2), int64(2), object(3)\n",
            "memory usage: 73.3+ KB\n"
          ]
        }
      ]
    },
    {
      "cell_type": "code",
      "source": [
        "df.isnull().sum()"
      ],
      "metadata": {
        "colab": {
          "base_uri": "https://localhost:8080/"
        },
        "id": "gwrP3-zX7WlO",
        "outputId": "6b6bfe09-e139-46ef-f6bc-b05e8d5028e7"
      },
      "execution_count": 6,
      "outputs": [
        {
          "output_type": "execute_result",
          "data": {
            "text/plain": [
              "age         0\n",
              "sex         0\n",
              "bmi         0\n",
              "children    0\n",
              "smoker      0\n",
              "region      0\n",
              "charges     0\n",
              "dtype: int64"
            ]
          },
          "metadata": {},
          "execution_count": 6
        }
      ]
    },
    {
      "cell_type": "code",
      "source": [
        "df.describe()"
      ],
      "metadata": {
        "colab": {
          "base_uri": "https://localhost:8080/",
          "height": 300
        },
        "id": "i8shOcsk7ZTO",
        "outputId": "1cb87985-5799-454b-e34f-f61ced847ad0"
      },
      "execution_count": 7,
      "outputs": [
        {
          "output_type": "execute_result",
          "data": {
            "text/plain": [
              "               age          bmi     children       charges\n",
              "count  1338.000000  1338.000000  1338.000000   1338.000000\n",
              "mean     39.207025    30.663397     1.094918  13270.422265\n",
              "std      14.049960     6.098187     1.205493  12110.011237\n",
              "min      18.000000    15.960000     0.000000   1121.873900\n",
              "25%      27.000000    26.296250     0.000000   4740.287150\n",
              "50%      39.000000    30.400000     1.000000   9382.033000\n",
              "75%      51.000000    34.693750     2.000000  16639.912515\n",
              "max      64.000000    53.130000     5.000000  63770.428010"
            ],
            "text/html": [
              "\n",
              "  <div id=\"df-d309cb7f-dd86-478c-ba80-b210462e8638\">\n",
              "    <div class=\"colab-df-container\">\n",
              "      <div>\n",
              "<style scoped>\n",
              "    .dataframe tbody tr th:only-of-type {\n",
              "        vertical-align: middle;\n",
              "    }\n",
              "\n",
              "    .dataframe tbody tr th {\n",
              "        vertical-align: top;\n",
              "    }\n",
              "\n",
              "    .dataframe thead th {\n",
              "        text-align: right;\n",
              "    }\n",
              "</style>\n",
              "<table border=\"1\" class=\"dataframe\">\n",
              "  <thead>\n",
              "    <tr style=\"text-align: right;\">\n",
              "      <th></th>\n",
              "      <th>age</th>\n",
              "      <th>bmi</th>\n",
              "      <th>children</th>\n",
              "      <th>charges</th>\n",
              "    </tr>\n",
              "  </thead>\n",
              "  <tbody>\n",
              "    <tr>\n",
              "      <th>count</th>\n",
              "      <td>1338.000000</td>\n",
              "      <td>1338.000000</td>\n",
              "      <td>1338.000000</td>\n",
              "      <td>1338.000000</td>\n",
              "    </tr>\n",
              "    <tr>\n",
              "      <th>mean</th>\n",
              "      <td>39.207025</td>\n",
              "      <td>30.663397</td>\n",
              "      <td>1.094918</td>\n",
              "      <td>13270.422265</td>\n",
              "    </tr>\n",
              "    <tr>\n",
              "      <th>std</th>\n",
              "      <td>14.049960</td>\n",
              "      <td>6.098187</td>\n",
              "      <td>1.205493</td>\n",
              "      <td>12110.011237</td>\n",
              "    </tr>\n",
              "    <tr>\n",
              "      <th>min</th>\n",
              "      <td>18.000000</td>\n",
              "      <td>15.960000</td>\n",
              "      <td>0.000000</td>\n",
              "      <td>1121.873900</td>\n",
              "    </tr>\n",
              "    <tr>\n",
              "      <th>25%</th>\n",
              "      <td>27.000000</td>\n",
              "      <td>26.296250</td>\n",
              "      <td>0.000000</td>\n",
              "      <td>4740.287150</td>\n",
              "    </tr>\n",
              "    <tr>\n",
              "      <th>50%</th>\n",
              "      <td>39.000000</td>\n",
              "      <td>30.400000</td>\n",
              "      <td>1.000000</td>\n",
              "      <td>9382.033000</td>\n",
              "    </tr>\n",
              "    <tr>\n",
              "      <th>75%</th>\n",
              "      <td>51.000000</td>\n",
              "      <td>34.693750</td>\n",
              "      <td>2.000000</td>\n",
              "      <td>16639.912515</td>\n",
              "    </tr>\n",
              "    <tr>\n",
              "      <th>max</th>\n",
              "      <td>64.000000</td>\n",
              "      <td>53.130000</td>\n",
              "      <td>5.000000</td>\n",
              "      <td>63770.428010</td>\n",
              "    </tr>\n",
              "  </tbody>\n",
              "</table>\n",
              "</div>\n",
              "      <button class=\"colab-df-convert\" onclick=\"convertToInteractive('df-d309cb7f-dd86-478c-ba80-b210462e8638')\"\n",
              "              title=\"Convert this dataframe to an interactive table.\"\n",
              "              style=\"display:none;\">\n",
              "        \n",
              "  <svg xmlns=\"http://www.w3.org/2000/svg\" height=\"24px\"viewBox=\"0 0 24 24\"\n",
              "       width=\"24px\">\n",
              "    <path d=\"M0 0h24v24H0V0z\" fill=\"none\"/>\n",
              "    <path d=\"M18.56 5.44l.94 2.06.94-2.06 2.06-.94-2.06-.94-.94-2.06-.94 2.06-2.06.94zm-11 1L8.5 8.5l.94-2.06 2.06-.94-2.06-.94L8.5 2.5l-.94 2.06-2.06.94zm10 10l.94 2.06.94-2.06 2.06-.94-2.06-.94-.94-2.06-.94 2.06-2.06.94z\"/><path d=\"M17.41 7.96l-1.37-1.37c-.4-.4-.92-.59-1.43-.59-.52 0-1.04.2-1.43.59L10.3 9.45l-7.72 7.72c-.78.78-.78 2.05 0 2.83L4 21.41c.39.39.9.59 1.41.59.51 0 1.02-.2 1.41-.59l7.78-7.78 2.81-2.81c.8-.78.8-2.07 0-2.86zM5.41 20L4 18.59l7.72-7.72 1.47 1.35L5.41 20z\"/>\n",
              "  </svg>\n",
              "      </button>\n",
              "      \n",
              "  <style>\n",
              "    .colab-df-container {\n",
              "      display:flex;\n",
              "      flex-wrap:wrap;\n",
              "      gap: 12px;\n",
              "    }\n",
              "\n",
              "    .colab-df-convert {\n",
              "      background-color: #E8F0FE;\n",
              "      border: none;\n",
              "      border-radius: 50%;\n",
              "      cursor: pointer;\n",
              "      display: none;\n",
              "      fill: #1967D2;\n",
              "      height: 32px;\n",
              "      padding: 0 0 0 0;\n",
              "      width: 32px;\n",
              "    }\n",
              "\n",
              "    .colab-df-convert:hover {\n",
              "      background-color: #E2EBFA;\n",
              "      box-shadow: 0px 1px 2px rgba(60, 64, 67, 0.3), 0px 1px 3px 1px rgba(60, 64, 67, 0.15);\n",
              "      fill: #174EA6;\n",
              "    }\n",
              "\n",
              "    [theme=dark] .colab-df-convert {\n",
              "      background-color: #3B4455;\n",
              "      fill: #D2E3FC;\n",
              "    }\n",
              "\n",
              "    [theme=dark] .colab-df-convert:hover {\n",
              "      background-color: #434B5C;\n",
              "      box-shadow: 0px 1px 3px 1px rgba(0, 0, 0, 0.15);\n",
              "      filter: drop-shadow(0px 1px 2px rgba(0, 0, 0, 0.3));\n",
              "      fill: #FFFFFF;\n",
              "    }\n",
              "  </style>\n",
              "\n",
              "      <script>\n",
              "        const buttonEl =\n",
              "          document.querySelector('#df-d309cb7f-dd86-478c-ba80-b210462e8638 button.colab-df-convert');\n",
              "        buttonEl.style.display =\n",
              "          google.colab.kernel.accessAllowed ? 'block' : 'none';\n",
              "\n",
              "        async function convertToInteractive(key) {\n",
              "          const element = document.querySelector('#df-d309cb7f-dd86-478c-ba80-b210462e8638');\n",
              "          const dataTable =\n",
              "            await google.colab.kernel.invokeFunction('convertToInteractive',\n",
              "                                                     [key], {});\n",
              "          if (!dataTable) return;\n",
              "\n",
              "          const docLinkHtml = 'Like what you see? Visit the ' +\n",
              "            '<a target=\"_blank\" href=https://colab.research.google.com/notebooks/data_table.ipynb>data table notebook</a>'\n",
              "            + ' to learn more about interactive tables.';\n",
              "          element.innerHTML = '';\n",
              "          dataTable['output_type'] = 'display_data';\n",
              "          await google.colab.output.renderOutput(dataTable, element);\n",
              "          const docLink = document.createElement('div');\n",
              "          docLink.innerHTML = docLinkHtml;\n",
              "          element.appendChild(docLink);\n",
              "        }\n",
              "      </script>\n",
              "    </div>\n",
              "  </div>\n",
              "  "
            ]
          },
          "metadata": {},
          "execution_count": 7
        }
      ]
    },
    {
      "cell_type": "markdown",
      "source": [
        "Exploratory Data Analysis"
      ],
      "metadata": {
        "id": "wrYCm8cJ7y0A"
      }
    },
    {
      "cell_type": "code",
      "source": [
        "df.head()"
      ],
      "metadata": {
        "colab": {
          "base_uri": "https://localhost:8080/",
          "height": 206
        },
        "id": "XV62eGbg8B2o",
        "outputId": "df4d7075-d815-4761-edb4-541a43811381"
      },
      "execution_count": 8,
      "outputs": [
        {
          "output_type": "execute_result",
          "data": {
            "text/plain": [
              "   age     sex     bmi  children smoker     region      charges\n",
              "0   19  female  27.900         0    yes  southwest  16884.92400\n",
              "1   18    male  33.770         1     no  southeast   1725.55230\n",
              "2   28    male  33.000         3     no  southeast   4449.46200\n",
              "3   33    male  22.705         0     no  northwest  21984.47061\n",
              "4   32    male  28.880         0     no  northwest   3866.85520"
            ],
            "text/html": [
              "\n",
              "  <div id=\"df-8ff47c38-5bf2-4f11-8cc8-eab02cb7794d\">\n",
              "    <div class=\"colab-df-container\">\n",
              "      <div>\n",
              "<style scoped>\n",
              "    .dataframe tbody tr th:only-of-type {\n",
              "        vertical-align: middle;\n",
              "    }\n",
              "\n",
              "    .dataframe tbody tr th {\n",
              "        vertical-align: top;\n",
              "    }\n",
              "\n",
              "    .dataframe thead th {\n",
              "        text-align: right;\n",
              "    }\n",
              "</style>\n",
              "<table border=\"1\" class=\"dataframe\">\n",
              "  <thead>\n",
              "    <tr style=\"text-align: right;\">\n",
              "      <th></th>\n",
              "      <th>age</th>\n",
              "      <th>sex</th>\n",
              "      <th>bmi</th>\n",
              "      <th>children</th>\n",
              "      <th>smoker</th>\n",
              "      <th>region</th>\n",
              "      <th>charges</th>\n",
              "    </tr>\n",
              "  </thead>\n",
              "  <tbody>\n",
              "    <tr>\n",
              "      <th>0</th>\n",
              "      <td>19</td>\n",
              "      <td>female</td>\n",
              "      <td>27.900</td>\n",
              "      <td>0</td>\n",
              "      <td>yes</td>\n",
              "      <td>southwest</td>\n",
              "      <td>16884.92400</td>\n",
              "    </tr>\n",
              "    <tr>\n",
              "      <th>1</th>\n",
              "      <td>18</td>\n",
              "      <td>male</td>\n",
              "      <td>33.770</td>\n",
              "      <td>1</td>\n",
              "      <td>no</td>\n",
              "      <td>southeast</td>\n",
              "      <td>1725.55230</td>\n",
              "    </tr>\n",
              "    <tr>\n",
              "      <th>2</th>\n",
              "      <td>28</td>\n",
              "      <td>male</td>\n",
              "      <td>33.000</td>\n",
              "      <td>3</td>\n",
              "      <td>no</td>\n",
              "      <td>southeast</td>\n",
              "      <td>4449.46200</td>\n",
              "    </tr>\n",
              "    <tr>\n",
              "      <th>3</th>\n",
              "      <td>33</td>\n",
              "      <td>male</td>\n",
              "      <td>22.705</td>\n",
              "      <td>0</td>\n",
              "      <td>no</td>\n",
              "      <td>northwest</td>\n",
              "      <td>21984.47061</td>\n",
              "    </tr>\n",
              "    <tr>\n",
              "      <th>4</th>\n",
              "      <td>32</td>\n",
              "      <td>male</td>\n",
              "      <td>28.880</td>\n",
              "      <td>0</td>\n",
              "      <td>no</td>\n",
              "      <td>northwest</td>\n",
              "      <td>3866.85520</td>\n",
              "    </tr>\n",
              "  </tbody>\n",
              "</table>\n",
              "</div>\n",
              "      <button class=\"colab-df-convert\" onclick=\"convertToInteractive('df-8ff47c38-5bf2-4f11-8cc8-eab02cb7794d')\"\n",
              "              title=\"Convert this dataframe to an interactive table.\"\n",
              "              style=\"display:none;\">\n",
              "        \n",
              "  <svg xmlns=\"http://www.w3.org/2000/svg\" height=\"24px\"viewBox=\"0 0 24 24\"\n",
              "       width=\"24px\">\n",
              "    <path d=\"M0 0h24v24H0V0z\" fill=\"none\"/>\n",
              "    <path d=\"M18.56 5.44l.94 2.06.94-2.06 2.06-.94-2.06-.94-.94-2.06-.94 2.06-2.06.94zm-11 1L8.5 8.5l.94-2.06 2.06-.94-2.06-.94L8.5 2.5l-.94 2.06-2.06.94zm10 10l.94 2.06.94-2.06 2.06-.94-2.06-.94-.94-2.06-.94 2.06-2.06.94z\"/><path d=\"M17.41 7.96l-1.37-1.37c-.4-.4-.92-.59-1.43-.59-.52 0-1.04.2-1.43.59L10.3 9.45l-7.72 7.72c-.78.78-.78 2.05 0 2.83L4 21.41c.39.39.9.59 1.41.59.51 0 1.02-.2 1.41-.59l7.78-7.78 2.81-2.81c.8-.78.8-2.07 0-2.86zM5.41 20L4 18.59l7.72-7.72 1.47 1.35L5.41 20z\"/>\n",
              "  </svg>\n",
              "      </button>\n",
              "      \n",
              "  <style>\n",
              "    .colab-df-container {\n",
              "      display:flex;\n",
              "      flex-wrap:wrap;\n",
              "      gap: 12px;\n",
              "    }\n",
              "\n",
              "    .colab-df-convert {\n",
              "      background-color: #E8F0FE;\n",
              "      border: none;\n",
              "      border-radius: 50%;\n",
              "      cursor: pointer;\n",
              "      display: none;\n",
              "      fill: #1967D2;\n",
              "      height: 32px;\n",
              "      padding: 0 0 0 0;\n",
              "      width: 32px;\n",
              "    }\n",
              "\n",
              "    .colab-df-convert:hover {\n",
              "      background-color: #E2EBFA;\n",
              "      box-shadow: 0px 1px 2px rgba(60, 64, 67, 0.3), 0px 1px 3px 1px rgba(60, 64, 67, 0.15);\n",
              "      fill: #174EA6;\n",
              "    }\n",
              "\n",
              "    [theme=dark] .colab-df-convert {\n",
              "      background-color: #3B4455;\n",
              "      fill: #D2E3FC;\n",
              "    }\n",
              "\n",
              "    [theme=dark] .colab-df-convert:hover {\n",
              "      background-color: #434B5C;\n",
              "      box-shadow: 0px 1px 3px 1px rgba(0, 0, 0, 0.15);\n",
              "      filter: drop-shadow(0px 1px 2px rgba(0, 0, 0, 0.3));\n",
              "      fill: #FFFFFF;\n",
              "    }\n",
              "  </style>\n",
              "\n",
              "      <script>\n",
              "        const buttonEl =\n",
              "          document.querySelector('#df-8ff47c38-5bf2-4f11-8cc8-eab02cb7794d button.colab-df-convert');\n",
              "        buttonEl.style.display =\n",
              "          google.colab.kernel.accessAllowed ? 'block' : 'none';\n",
              "\n",
              "        async function convertToInteractive(key) {\n",
              "          const element = document.querySelector('#df-8ff47c38-5bf2-4f11-8cc8-eab02cb7794d');\n",
              "          const dataTable =\n",
              "            await google.colab.kernel.invokeFunction('convertToInteractive',\n",
              "                                                     [key], {});\n",
              "          if (!dataTable) return;\n",
              "\n",
              "          const docLinkHtml = 'Like what you see? Visit the ' +\n",
              "            '<a target=\"_blank\" href=https://colab.research.google.com/notebooks/data_table.ipynb>data table notebook</a>'\n",
              "            + ' to learn more about interactive tables.';\n",
              "          element.innerHTML = '';\n",
              "          dataTable['output_type'] = 'display_data';\n",
              "          await google.colab.output.renderOutput(dataTable, element);\n",
              "          const docLink = document.createElement('div');\n",
              "          docLink.innerHTML = docLinkHtml;\n",
              "          element.appendChild(docLink);\n",
              "        }\n",
              "      </script>\n",
              "    </div>\n",
              "  </div>\n",
              "  "
            ]
          },
          "metadata": {},
          "execution_count": 8
        }
      ]
    },
    {
      "cell_type": "code",
      "source": [
        "print('Top 5 charges:')\n",
        "df.nlargest(5,['charges'])"
      ],
      "metadata": {
        "colab": {
          "base_uri": "https://localhost:8080/",
          "height": 223
        },
        "id": "7oLppD_d75n-",
        "outputId": "41c0d953-5f54-4650-93f5-d37c2fe93f35"
      },
      "execution_count": 9,
      "outputs": [
        {
          "output_type": "stream",
          "name": "stdout",
          "text": [
            "Top 5 charges:\n"
          ]
        },
        {
          "output_type": "execute_result",
          "data": {
            "text/plain": [
              "      age     sex     bmi  children smoker     region      charges\n",
              "543    54  female  47.410         0    yes  southeast  63770.42801\n",
              "1300   45    male  30.360         0    yes  southeast  62592.87309\n",
              "1230   52    male  34.485         3    yes  northwest  60021.39897\n",
              "577    31  female  38.095         1    yes  northeast  58571.07448\n",
              "819    33  female  35.530         0    yes  northwest  55135.40209"
            ],
            "text/html": [
              "\n",
              "  <div id=\"df-64161b1f-2b8b-4027-9d0d-9bb23e63cb47\">\n",
              "    <div class=\"colab-df-container\">\n",
              "      <div>\n",
              "<style scoped>\n",
              "    .dataframe tbody tr th:only-of-type {\n",
              "        vertical-align: middle;\n",
              "    }\n",
              "\n",
              "    .dataframe tbody tr th {\n",
              "        vertical-align: top;\n",
              "    }\n",
              "\n",
              "    .dataframe thead th {\n",
              "        text-align: right;\n",
              "    }\n",
              "</style>\n",
              "<table border=\"1\" class=\"dataframe\">\n",
              "  <thead>\n",
              "    <tr style=\"text-align: right;\">\n",
              "      <th></th>\n",
              "      <th>age</th>\n",
              "      <th>sex</th>\n",
              "      <th>bmi</th>\n",
              "      <th>children</th>\n",
              "      <th>smoker</th>\n",
              "      <th>region</th>\n",
              "      <th>charges</th>\n",
              "    </tr>\n",
              "  </thead>\n",
              "  <tbody>\n",
              "    <tr>\n",
              "      <th>543</th>\n",
              "      <td>54</td>\n",
              "      <td>female</td>\n",
              "      <td>47.410</td>\n",
              "      <td>0</td>\n",
              "      <td>yes</td>\n",
              "      <td>southeast</td>\n",
              "      <td>63770.42801</td>\n",
              "    </tr>\n",
              "    <tr>\n",
              "      <th>1300</th>\n",
              "      <td>45</td>\n",
              "      <td>male</td>\n",
              "      <td>30.360</td>\n",
              "      <td>0</td>\n",
              "      <td>yes</td>\n",
              "      <td>southeast</td>\n",
              "      <td>62592.87309</td>\n",
              "    </tr>\n",
              "    <tr>\n",
              "      <th>1230</th>\n",
              "      <td>52</td>\n",
              "      <td>male</td>\n",
              "      <td>34.485</td>\n",
              "      <td>3</td>\n",
              "      <td>yes</td>\n",
              "      <td>northwest</td>\n",
              "      <td>60021.39897</td>\n",
              "    </tr>\n",
              "    <tr>\n",
              "      <th>577</th>\n",
              "      <td>31</td>\n",
              "      <td>female</td>\n",
              "      <td>38.095</td>\n",
              "      <td>1</td>\n",
              "      <td>yes</td>\n",
              "      <td>northeast</td>\n",
              "      <td>58571.07448</td>\n",
              "    </tr>\n",
              "    <tr>\n",
              "      <th>819</th>\n",
              "      <td>33</td>\n",
              "      <td>female</td>\n",
              "      <td>35.530</td>\n",
              "      <td>0</td>\n",
              "      <td>yes</td>\n",
              "      <td>northwest</td>\n",
              "      <td>55135.40209</td>\n",
              "    </tr>\n",
              "  </tbody>\n",
              "</table>\n",
              "</div>\n",
              "      <button class=\"colab-df-convert\" onclick=\"convertToInteractive('df-64161b1f-2b8b-4027-9d0d-9bb23e63cb47')\"\n",
              "              title=\"Convert this dataframe to an interactive table.\"\n",
              "              style=\"display:none;\">\n",
              "        \n",
              "  <svg xmlns=\"http://www.w3.org/2000/svg\" height=\"24px\"viewBox=\"0 0 24 24\"\n",
              "       width=\"24px\">\n",
              "    <path d=\"M0 0h24v24H0V0z\" fill=\"none\"/>\n",
              "    <path d=\"M18.56 5.44l.94 2.06.94-2.06 2.06-.94-2.06-.94-.94-2.06-.94 2.06-2.06.94zm-11 1L8.5 8.5l.94-2.06 2.06-.94-2.06-.94L8.5 2.5l-.94 2.06-2.06.94zm10 10l.94 2.06.94-2.06 2.06-.94-2.06-.94-.94-2.06-.94 2.06-2.06.94z\"/><path d=\"M17.41 7.96l-1.37-1.37c-.4-.4-.92-.59-1.43-.59-.52 0-1.04.2-1.43.59L10.3 9.45l-7.72 7.72c-.78.78-.78 2.05 0 2.83L4 21.41c.39.39.9.59 1.41.59.51 0 1.02-.2 1.41-.59l7.78-7.78 2.81-2.81c.8-.78.8-2.07 0-2.86zM5.41 20L4 18.59l7.72-7.72 1.47 1.35L5.41 20z\"/>\n",
              "  </svg>\n",
              "      </button>\n",
              "      \n",
              "  <style>\n",
              "    .colab-df-container {\n",
              "      display:flex;\n",
              "      flex-wrap:wrap;\n",
              "      gap: 12px;\n",
              "    }\n",
              "\n",
              "    .colab-df-convert {\n",
              "      background-color: #E8F0FE;\n",
              "      border: none;\n",
              "      border-radius: 50%;\n",
              "      cursor: pointer;\n",
              "      display: none;\n",
              "      fill: #1967D2;\n",
              "      height: 32px;\n",
              "      padding: 0 0 0 0;\n",
              "      width: 32px;\n",
              "    }\n",
              "\n",
              "    .colab-df-convert:hover {\n",
              "      background-color: #E2EBFA;\n",
              "      box-shadow: 0px 1px 2px rgba(60, 64, 67, 0.3), 0px 1px 3px 1px rgba(60, 64, 67, 0.15);\n",
              "      fill: #174EA6;\n",
              "    }\n",
              "\n",
              "    [theme=dark] .colab-df-convert {\n",
              "      background-color: #3B4455;\n",
              "      fill: #D2E3FC;\n",
              "    }\n",
              "\n",
              "    [theme=dark] .colab-df-convert:hover {\n",
              "      background-color: #434B5C;\n",
              "      box-shadow: 0px 1px 3px 1px rgba(0, 0, 0, 0.15);\n",
              "      filter: drop-shadow(0px 1px 2px rgba(0, 0, 0, 0.3));\n",
              "      fill: #FFFFFF;\n",
              "    }\n",
              "  </style>\n",
              "\n",
              "      <script>\n",
              "        const buttonEl =\n",
              "          document.querySelector('#df-64161b1f-2b8b-4027-9d0d-9bb23e63cb47 button.colab-df-convert');\n",
              "        buttonEl.style.display =\n",
              "          google.colab.kernel.accessAllowed ? 'block' : 'none';\n",
              "\n",
              "        async function convertToInteractive(key) {\n",
              "          const element = document.querySelector('#df-64161b1f-2b8b-4027-9d0d-9bb23e63cb47');\n",
              "          const dataTable =\n",
              "            await google.colab.kernel.invokeFunction('convertToInteractive',\n",
              "                                                     [key], {});\n",
              "          if (!dataTable) return;\n",
              "\n",
              "          const docLinkHtml = 'Like what you see? Visit the ' +\n",
              "            '<a target=\"_blank\" href=https://colab.research.google.com/notebooks/data_table.ipynb>data table notebook</a>'\n",
              "            + ' to learn more about interactive tables.';\n",
              "          element.innerHTML = '';\n",
              "          dataTable['output_type'] = 'display_data';\n",
              "          await google.colab.output.renderOutput(dataTable, element);\n",
              "          const docLink = document.createElement('div');\n",
              "          docLink.innerHTML = docLinkHtml;\n",
              "          element.appendChild(docLink);\n",
              "        }\n",
              "      </script>\n",
              "    </div>\n",
              "  </div>\n",
              "  "
            ]
          },
          "metadata": {},
          "execution_count": 9
        }
      ]
    },
    {
      "cell_type": "code",
      "source": [
        "print('No. of Smokers and Non-smokers')\n",
        "df['smoker'].value_counts()"
      ],
      "metadata": {
        "colab": {
          "base_uri": "https://localhost:8080/"
        },
        "id": "bn9A8MFY8K3t",
        "outputId": "7c329a71-ab9d-4fc3-f1b9-47268fef86f9"
      },
      "execution_count": 10,
      "outputs": [
        {
          "output_type": "stream",
          "name": "stdout",
          "text": [
            "No. of Smokers and Non-smokers\n"
          ]
        },
        {
          "output_type": "execute_result",
          "data": {
            "text/plain": [
              "no     1064\n",
              "yes     274\n",
              "Name: smoker, dtype: int64"
            ]
          },
          "metadata": {},
          "execution_count": 10
        }
      ]
    },
    {
      "cell_type": "markdown",
      "source": [
        "Data is imbalanced."
      ],
      "metadata": {
        "id": "2pNBKOGT_zB6"
      }
    },
    {
      "cell_type": "code",
      "source": [
        "print('No. of males and females')\n",
        "df['sex'].value_counts()"
      ],
      "metadata": {
        "colab": {
          "base_uri": "https://localhost:8080/"
        },
        "id": "G_PxMgKv_iiZ",
        "outputId": "b92e8a94-f608-4fbc-857a-672ae57755ed"
      },
      "execution_count": 11,
      "outputs": [
        {
          "output_type": "stream",
          "name": "stdout",
          "text": [
            "No. of males and females\n"
          ]
        },
        {
          "output_type": "execute_result",
          "data": {
            "text/plain": [
              "male      676\n",
              "female    662\n",
              "Name: sex, dtype: int64"
            ]
          },
          "metadata": {},
          "execution_count": 11
        }
      ]
    },
    {
      "cell_type": "code",
      "source": [
        "sm1=df['smoker'][df.smoker=='no'][df.age>50].count()\n",
        "print('Cases with age above 50 and non-smoker:',sm1)\n",
        "sm2=df['smoker'][df.smoker=='yes'][df.age>50].count()\n",
        "print('Cases with age above 50 and smoker:',sm2)"
      ],
      "metadata": {
        "colab": {
          "base_uri": "https://localhost:8080/"
        },
        "id": "dM6Nsaeb_-GT",
        "outputId": "a1e97c74-689c-4fc9-b908-ef937d5cd276"
      },
      "execution_count": 12,
      "outputs": [
        {
          "output_type": "stream",
          "name": "stdout",
          "text": [
            "Cases with age above 50 and non-smoker: 292\n",
            "Cases with age above 50 and smoker: 64\n"
          ]
        }
      ]
    },
    {
      "cell_type": "code",
      "source": [
        "alpha=df['smoker'][df.smoker=='yes'][df.charges>13270].count()\n",
        "print('Cases with charges above its mean and who are smoker',alpha)\n",
        "beta=df['smoker'][df.smoker=='no'][df.charges>13270].count()\n",
        "print('Cases with charges above its mean and who are non-smoker',beta)\n"
      ],
      "metadata": {
        "colab": {
          "base_uri": "https://localhost:8080/"
        },
        "id": "DDn0Xq3OBPt8",
        "outputId": "beea3404-fe77-4179-9681-fdc5978a5bc5"
      },
      "execution_count": 13,
      "outputs": [
        {
          "output_type": "stream",
          "name": "stdout",
          "text": [
            "Cases with charges above its mean and who are smoker 273\n",
            "Cases with charges above its mean and who are non-smoker 147\n"
          ]
        }
      ]
    },
    {
      "cell_type": "markdown",
      "source": [
        "Charges are high for those who smokes."
      ],
      "metadata": {
        "id": "dxnMt-rXDnvW"
      }
    },
    {
      "cell_type": "code",
      "source": [
        "bmi1=df['bmi'][df.bmi>=18.5][ df.bmi<=24.9][df.charges>13270].count()\n",
        "print(\"Cases with healthy bmi and above mean charges\",bmi1)\n"
      ],
      "metadata": {
        "colab": {
          "base_uri": "https://localhost:8080/"
        },
        "id": "cTKJPFPMCUpN",
        "outputId": "cb9f9a27-7f63-4af4-ad55-6d74ee98c3aa"
      },
      "execution_count": 14,
      "outputs": [
        {
          "output_type": "stream",
          "name": "stdout",
          "text": [
            "Cases with healthy bmi and above mean charges 68\n"
          ]
        }
      ]
    },
    {
      "cell_type": "markdown",
      "source": [
        "Indicates charges are not so high for person having healthy BMI."
      ],
      "metadata": {
        "id": "F5lqlbcWHBew"
      }
    },
    {
      "cell_type": "code",
      "source": [
        "sns.displot(df['charges'])"
      ],
      "metadata": {
        "colab": {
          "base_uri": "https://localhost:8080/",
          "height": 386
        },
        "id": "5hWArYX-FSOx",
        "outputId": "d26838e1-0eda-4247-d554-7264dea5eef2"
      },
      "execution_count": 15,
      "outputs": [
        {
          "output_type": "execute_result",
          "data": {
            "text/plain": [
              "<seaborn.axisgrid.FacetGrid at 0x7fa774062970>"
            ]
          },
          "metadata": {},
          "execution_count": 15
        },
        {
          "output_type": "display_data",
          "data": {
            "text/plain": [
              "<Figure size 360x360 with 1 Axes>"
            ],
            "image/png": "[encoded data removed]"
          },
          "metadata": {
            "needs_background": "light"
          }
        }
      ]
    },
    {
      "cell_type": "code",
      "source": [
        "sns.boxplot(x='smoker',y='age',data=df)"
      ],
      "metadata": {
        "colab": {
          "base_uri": "https://localhost:8080/",
          "height": 296
        },
        "id": "qXPEZqSZHU1W",
        "outputId": "a08b4304-f168-45aa-e410-789e939d89e0"
      },
      "execution_count": 16,
      "outputs": [
        {
          "output_type": "execute_result",
          "data": {
            "text/plain": [
              "<matplotlib.axes._subplots.AxesSubplot at 0x7fa77173a7f0>"
            ]
          },
          "metadata": {},
          "execution_count": 16
        },
        {
          "output_type": "display_data",
          "data": {
            "text/plain": [
              "<Figure size 432x288 with 1 Axes>"
            ],
            "image/png": "[encoded data removed]"
          },
          "metadata": {
            "needs_background": "light"
          }
        }
      ]
    },
    {
      "cell_type": "code",
      "source": [
        "sns.pairplot(df)"
      ],
      "metadata": {
        "colab": {
          "base_uri": "https://localhost:8080/",
          "height": 743
        },
        "id": "dwIjidMfIYvq",
        "outputId": "38e4508a-9225-4b30-8bcd-688729342b9c"
      },
      "execution_count": 17,
      "outputs": [
        {
          "output_type": "execute_result",
          "data": {
            "text/plain": [
              "<seaborn.axisgrid.PairGrid at 0x7fa771260c10>"
            ]
          },
          "metadata": {},
          "execution_count": 17
        },
        {
          "output_type": "display_data",
          "data": {
            "text/plain": [
              "<Figure size 720x720 with 20 Axes>"
            ],
            "image/png": "[encoded data removed]"
          },
          "metadata": {
            "needs_background": "light"
          }
        }
      ]
    },
    {
      "cell_type": "code",
      "source": [
        "plt.figure(figsize=(8,8))\n",
        "corr=df.corr()\n",
        "sns.heatmap(corr,annot=True,cmap='Greens',cbar=True)"
      ],
      "metadata": {
        "colab": {
          "base_uri": "https://localhost:8080/",
          "height": 504
        },
        "id": "CQ6A4s8oJ_yU",
        "outputId": "39c505b8-9757-4d83-82ff-e2ea6efac482"
      },
      "execution_count": 18,
      "outputs": [
        {
          "output_type": "execute_result",
          "data": {
            "text/plain": [
              "<matplotlib.axes._subplots.AxesSubplot at 0x7fa770c9fcd0>"
            ]
          },
          "metadata": {},
          "execution_count": 18
        },
        {
          "output_type": "display_data",
          "data": {
            "text/plain": [
              "<Figure size 576x576 with 2 Axes>"
            ],
            "image/png": "[encoded data removed]"
          },
          "metadata": {
            "needs_background": "light"
          }
        }
      ]
    },
    {
      "cell_type": "code",
      "source": [
        "from sklearn.preprocessing import LabelEncoder\n",
        "lb_make = LabelEncoder()\n",
        "df[\"sex\"] = lb_make.fit_transform(df[\"sex\"])\n",
        "df[\"smoker\"] = lb_make.fit_transform(df[\"smoker\"])\n",
        "df[\"region\"] = lb_make.fit_transform(df[\"region\"])\n",
        "\n",
        "df.head()"
      ],
      "metadata": {
        "colab": {
          "base_uri": "https://localhost:8080/",
          "height": 206
        },
        "id": "xClxXEhxKpbl",
        "outputId": "0c01df31-1ba4-4c90-cd5e-56f90a6dc165"
      },
      "execution_count": 19,
      "outputs": [
        {
          "output_type": "execute_result",
          "data": {
            "text/plain": [
              "   age  sex     bmi  children  smoker  region      charges\n",
              "0   19    0  27.900         0       1       3  16884.92400\n",
              "1   18    1  33.770         1       0       2   1725.55230\n",
              "2   28    1  33.000         3       0       2   4449.46200\n",
              "3   33    1  22.705         0       0       1  21984.47061\n",
              "4   32    1  28.880         0       0       1   3866.85520"
            ],
            "text/html": [
              "\n",
              "  <div id=\"df-48c8c2b9-a905-4daf-8ab3-3cb0bb04cf99\">\n",
              "    <div class=\"colab-df-container\">\n",
              "      <div>\n",
              "<style scoped>\n",
              "    .dataframe tbody tr th:only-of-type {\n",
              "        vertical-align: middle;\n",
              "    }\n",
              "\n",
              "    .dataframe tbody tr th {\n",
              "        vertical-align: top;\n",
              "    }\n",
              "\n",
              "    .dataframe thead th {\n",
              "        text-align: right;\n",
              "    }\n",
              "</style>\n",
              "<table border=\"1\" class=\"dataframe\">\n",
              "  <thead>\n",
              "    <tr style=\"text-align: right;\">\n",
              "      <th></th>\n",
              "      <th>age</th>\n",
              "      <th>sex</th>\n",
              "      <th>bmi</th>\n",
              "      <th>children</th>\n",
              "      <th>smoker</th>\n",
              "      <th>region</th>\n",
              "      <th>charges</th>\n",
              "    </tr>\n",
              "  </thead>\n",
              "  <tbody>\n",
              "    <tr>\n",
              "      <th>0</th>\n",
              "      <td>19</td>\n",
              "      <td>0</td>\n",
              "      <td>27.900</td>\n",
              "      <td>0</td>\n",
              "      <td>1</td>\n",
              "      <td>3</td>\n",
              "      <td>16884.92400</td>\n",
              "    </tr>\n",
              "    <tr>\n",
              "      <th>1</th>\n",
              "      <td>18</td>\n",
              "      <td>1</td>\n",
              "      <td>33.770</td>\n",
              "      <td>1</td>\n",
              "      <td>0</td>\n",
              "      <td>2</td>\n",
              "      <td>1725.55230</td>\n",
              "    </tr>\n",
              "    <tr>\n",
              "      <th>2</th>\n",
              "      <td>28</td>\n",
              "      <td>1</td>\n",
              "      <td>33.000</td>\n",
              "      <td>3</td>\n",
              "      <td>0</td>\n",
              "      <td>2</td>\n",
              "      <td>4449.46200</td>\n",
              "    </tr>\n",
              "    <tr>\n",
              "      <th>3</th>\n",
              "      <td>33</td>\n",
              "      <td>1</td>\n",
              "      <td>22.705</td>\n",
              "      <td>0</td>\n",
              "      <td>0</td>\n",
              "      <td>1</td>\n",
              "      <td>21984.47061</td>\n",
              "    </tr>\n",
              "    <tr>\n",
              "      <th>4</th>\n",
              "      <td>32</td>\n",
              "      <td>1</td>\n",
              "      <td>28.880</td>\n",
              "      <td>0</td>\n",
              "      <td>0</td>\n",
              "      <td>1</td>\n",
              "      <td>3866.85520</td>\n",
              "    </tr>\n",
              "  </tbody>\n",
              "</table>\n",
              "</div>\n",
              "      <button class=\"colab-df-convert\" onclick=\"convertToInteractive('df-48c8c2b9-a905-4daf-8ab3-3cb0bb04cf99')\"\n",
              "              title=\"Convert this dataframe to an interactive table.\"\n",
              "              style=\"display:none;\">\n",
              "        \n",
              "  <svg xmlns=\"http://www.w3.org/2000/svg\" height=\"24px\"viewBox=\"0 0 24 24\"\n",
              "       width=\"24px\">\n",
              "    <path d=\"M0 0h24v24H0V0z\" fill=\"none\"/>\n",
              "    <path d=\"M18.56 5.44l.94 2.06.94-2.06 2.06-.94-2.06-.94-.94-2.06-.94 2.06-2.06.94zm-11 1L8.5 8.5l.94-2.06 2.06-.94-2.06-.94L8.5 2.5l-.94 2.06-2.06.94zm10 10l.94 2.06.94-2.06 2.06-.94-2.06-.94-.94-2.06-.94 2.06-2.06.94z\"/><path d=\"M17.41 7.96l-1.37-1.37c-.4-.4-.92-.59-1.43-.59-.52 0-1.04.2-1.43.59L10.3 9.45l-7.72 7.72c-.78.78-.78 2.05 0 2.83L4 21.41c.39.39.9.59 1.41.59.51 0 1.02-.2 1.41-.59l7.78-7.78 2.81-2.81c.8-.78.8-2.07 0-2.86zM5.41 20L4 18.59l7.72-7.72 1.47 1.35L5.41 20z\"/>\n",
              "  </svg>\n",
              "      </button>\n",
              "      \n",
              "  <style>\n",
              "    .colab-df-container {\n",
              "      display:flex;\n",
              "      flex-wrap:wrap;\n",
              "      gap: 12px;\n",
              "    }\n",
              "\n",
              "    .colab-df-convert {\n",
              "      background-color: #E8F0FE;\n",
              "      border: none;\n",
              "      border-radius: 50%;\n",
              "      cursor: pointer;\n",
              "      display: none;\n",
              "      fill: #1967D2;\n",
              "      height: 32px;\n",
              "      padding: 0 0 0 0;\n",
              "      width: 32px;\n",
              "    }\n",
              "\n",
              "    .colab-df-convert:hover {\n",
              "      background-color: #E2EBFA;\n",
              "      box-shadow: 0px 1px 2px rgba(60, 64, 67, 0.3), 0px 1px 3px 1px rgba(60, 64, 67, 0.15);\n",
              "      fill: #174EA6;\n",
              "    }\n",
              "\n",
              "    [theme=dark] .colab-df-convert {\n",
              "      background-color: #3B4455;\n",
              "      fill: #D2E3FC;\n",
              "    }\n",
              "\n",
              "    [theme=dark] .colab-df-convert:hover {\n",
              "      background-color: #434B5C;\n",
              "      box-shadow: 0px 1px 3px 1px rgba(0, 0, 0, 0.15);\n",
              "      filter: drop-shadow(0px 1px 2px rgba(0, 0, 0, 0.3));\n",
              "      fill: #FFFFFF;\n",
              "    }\n",
              "  </style>\n",
              "\n",
              "      <script>\n",
              "        const buttonEl =\n",
              "          document.querySelector('#df-48c8c2b9-a905-4daf-8ab3-3cb0bb04cf99 button.colab-df-convert');\n",
              "        buttonEl.style.display =\n",
              "          google.colab.kernel.accessAllowed ? 'block' : 'none';\n",
              "\n",
              "        async function convertToInteractive(key) {\n",
              "          const element = document.querySelector('#df-48c8c2b9-a905-4daf-8ab3-3cb0bb04cf99');\n",
              "          const dataTable =\n",
              "            await google.colab.kernel.invokeFunction('convertToInteractive',\n",
              "                                                     [key], {});\n",
              "          if (!dataTable) return;\n",
              "\n",
              "          const docLinkHtml = 'Like what you see? Visit the ' +\n",
              "            '<a target=\"_blank\" href=https://colab.research.google.com/notebooks/data_table.ipynb>data table notebook</a>'\n",
              "            + ' to learn more about interactive tables.';\n",
              "          element.innerHTML = '';\n",
              "          dataTable['output_type'] = 'display_data';\n",
              "          await google.colab.output.renderOutput(dataTable, element);\n",
              "          const docLink = document.createElement('div');\n",
              "          docLink.innerHTML = docLinkHtml;\n",
              "          element.appendChild(docLink);\n",
              "        }\n",
              "      </script>\n",
              "    </div>\n",
              "  </div>\n",
              "  "
            ]
          },
          "metadata": {},
          "execution_count": 19
        }
      ]
    },
    {
      "cell_type": "markdown",
      "source": [
        "Dataset Development:"
      ],
      "metadata": {
        "id": "r4FUmcW9NCOD"
      }
    },
    {
      "cell_type": "code",
      "source": [
        "import math \n",
        "from sklearn.model_selection import train_test_split\n",
        "from sklearn.metrics import r2_score,mean_absolute_error,mean_squared_error\n",
        "\n",
        "x=df.drop('charges',axis=1)\n",
        "y=df['charges']\n",
        "print(x.shape)\n",
        "print(y.shape)\n",
        "\n",
        "X_train, X_test, y_train, y_test = train_test_split(x,y,test_size = 0.2,random_state = 0)\n",
        "\n",
        "print(\"Shape of X_test: \", X_test.shape)\n",
        "print(\"Shape of X_train: \", X_train.shape)\n",
        "print(\"Shape of y_test: \", y_test.shape)\n",
        "print(\"Shape of y_train: \", y_train.shape)"
      ],
      "metadata": {
        "colab": {
          "base_uri": "https://localhost:8080/"
        },
        "id": "HdHbT60gMz8B",
        "outputId": "e666602b-c501-475e-fbf0-8996830ce1e8"
      },
      "execution_count": 20,
      "outputs": [
        {
          "output_type": "stream",
          "name": "stdout",
          "text": [
            "(1338, 6)\n",
            "(1338,)\n",
            "Shape of X_test:  (268, 6)\n",
            "Shape of X_train:  (1070, 6)\n",
            "Shape of y_test:  (268,)\n",
            "Shape of y_train:  (1070,)\n"
          ]
        }
      ]
    },
    {
      "cell_type": "code",
      "source": [
        "def evaluating_model(y_test,y_pred):\n",
        "  print(\"r2_score: \", r2_score(y_test,y_pred))\n",
        "  print(\"MAE: \", mean_absolute_error(y_test,y_pred))\n",
        "  print(\"MSE: \", mean_squared_error(y_test,y_pred))\n",
        "  print(\"RMSE: \", math.sqrt(mean_squared_error(y_test,y_pred)))"
      ],
      "metadata": {
        "id": "fbGr0CrCTmmf"
      },
      "execution_count": 21,
      "outputs": []
    },
    {
      "cell_type": "code",
      "source": [
        "#Linear Regression\n",
        "from sklearn import metrics\n",
        "from sklearn.linear_model import LinearRegression\n",
        "lr_reg=LinearRegression()\n",
        "lr_reg.fit(X_train,y_train)\n",
        "y_pred = lr_reg.predict(X_test)\n",
        "evaluating_model(y_test,y_pred)\n"
      ],
      "metadata": {
        "colab": {
          "base_uri": "https://localhost:8080/"
        },
        "id": "aucPw_5lQ0Ce",
        "outputId": "13cfb577-0cd1-4cf3-92a4-0e80c05d791b"
      },
      "execution_count": 22,
      "outputs": [
        {
          "output_type": "stream",
          "name": "stdout",
          "text": [
            "r2_score:  0.7998747145449959\n",
            "MAE:  3930.3332739011403\n",
            "MSE:  31845929.13415943\n",
            "RMSE:  5643.219748880902\n"
          ]
        }
      ]
    },
    {
      "cell_type": "code",
      "source": [
        "plt.scatter(y_test, y_pred)\n",
        "plt.xlabel(\"Actaul\")\n",
        "plt.ylabel(\"Predicted\")\n",
        "plt.title(\"Actual vs Predicted\")\n",
        "plt.show()"
      ],
      "metadata": {
        "colab": {
          "base_uri": "https://localhost:8080/",
          "height": 295
        },
        "id": "Lb-cHuj8e30f",
        "outputId": "e67f7668-7eb6-464e-b29d-7d3f2536361d"
      },
      "execution_count": 23,
      "outputs": [
        {
          "output_type": "display_data",
          "data": {
            "text/plain": [
              "<Figure size 432x288 with 1 Axes>"
            ],
            "image/png": "[encoded data removed]"
          },
          "metadata": {
            "needs_background": "light"
          }
        }
      ]
    },
    {
      "cell_type": "code",
      "source": [
        "from sklearn.pipeline import make_pipeline\n",
        "from sklearn.preprocessing import StandardScaler\n",
        "lr_reg_pip=make_pipeline(StandardScaler(),LinearRegression())\n",
        "lr_reg_pip.fit(X_train,y_train)\n",
        "y_pred2 = lr_reg_pip.predict(X_test)\n",
        "evaluating_model(y_test,y_pred2)\n"
      ],
      "metadata": {
        "colab": {
          "base_uri": "https://localhost:8080/"
        },
        "id": "h1dsm8LfbJvt",
        "outputId": "c0b20e94-607d-4333-9b33-c7d98f933de0"
      },
      "execution_count": 24,
      "outputs": [
        {
          "output_type": "stream",
          "name": "stdout",
          "text": [
            "r2_score:  0.7998747145449958\n",
            "MAE:  3930.333273901142\n",
            "MSE:  31845929.134159446\n",
            "RMSE:  5643.219748880903\n"
          ]
        }
      ]
    },
    {
      "cell_type": "code",
      "source": [
        "from sklearn.linear_model import Lasso \n",
        "\n",
        "Lasso = Lasso()\n",
        "Lasso.fit(X_train, y_train)\n",
        "y_pred3 = Lasso.predict(X_test )\n",
        "evaluating_model(y_test,y_pred3)\n",
        "print('Y-intercept : ', Lasso.intercept_)\n"
      ],
      "metadata": {
        "colab": {
          "base_uri": "https://localhost:8080/"
        },
        "id": "Ovza-X73Rk16",
        "outputId": "299ed39b-7579-4521-cf1c-788aea65e614"
      },
      "execution_count": 25,
      "outputs": [
        {
          "output_type": "stream",
          "name": "stdout",
          "text": [
            "r2_score:  0.7998461817644502\n",
            "MAE:  3931.0615784053816\n",
            "MSE:  31850469.55445261\n",
            "RMSE:  5643.622024414162\n",
            "Y-intercept :  -11661.235307188987\n"
          ]
        }
      ]
    },
    {
      "cell_type": "markdown",
      "source": [
        "Lasso Regression shows little improvement over Normal linear regression and Normalized linear regression\n"
      ],
      "metadata": {
        "id": "U5mKUnw1dam8"
      }
    },
    {
      "cell_type": "code",
      "source": [
        "from sklearn.svm import SVR\n",
        "from sklearn.model_selection import GridSearchCV\n",
        "\n",
        "\n",
        "param_grid = {'C':[1,10,100,1000,10000],\n",
        "              'gamma':[100,10,1,0.1,0.01,.001],\n",
        "              'kernel':['rbf']}\n",
        "grid = GridSearchCV(SVR(),param_grid,refit=True,verbose=3)\n",
        "grid.fit(X_train,y_train)\n",
        "\n",
        "svc = SVR()\n",
        "svc.fit(X_train,y_train)\n",
        "y_pred4=svc.predict(X_test)\n",
        "\n"
      ],
      "metadata": {
        "colab": {
          "base_uri": "https://localhost:8080/"
        },
        "id": "Uvvpg2JzdqIj",
        "outputId": "22e60cb1-545a-43fd-fec0-ec85aaf68ab3"
      },
      "execution_count": 34,
      "outputs": [
        {
          "output_type": "stream",
          "name": "stdout",
          "text": [
            "Fitting 5 folds for each of 30 candidates, totalling 150 fits\n",
            "[CV 1/5] END .......C=1, gamma=100, kernel=rbf;, score=-0.086 total time=   0.1s\n",
            "[CV 2/5] END .......C=1, gamma=100, kernel=rbf;, score=-0.038 total time=   0.1s\n",
            "[CV 3/5] END .......C=1, gamma=100, kernel=rbf;, score=-0.086 total time=   0.1s\n",
            "[CV 4/5] END .......C=1, gamma=100, kernel=rbf;, score=-0.137 total time=   0.1s\n",
            "[CV 5/5] END .......C=1, gamma=100, kernel=rbf;, score=-0.169 total time=   0.1s\n",
            "[CV 1/5] END ........C=1, gamma=10, kernel=rbf;, score=-0.086 total time=   0.1s\n",
            "[CV 2/5] END ........C=1, gamma=10, kernel=rbf;, score=-0.038 total time=   0.1s\n",
            "[CV 3/5] END ........C=1, gamma=10, kernel=rbf;, score=-0.086 total time=   0.1s\n",
            "[CV 4/5] END ........C=1, gamma=10, kernel=rbf;, score=-0.137 total time=   0.1s\n",
            "[CV 5/5] END ........C=1, gamma=10, kernel=rbf;, score=-0.169 total time=   0.1s\n",
            "[CV 1/5] END .........C=1, gamma=1, kernel=rbf;, score=-0.086 total time=   0.1s\n",
            "[CV 2/5] END .........C=1, gamma=1, kernel=rbf;, score=-0.038 total time=   0.1s\n",
            "[CV 3/5] END .........C=1, gamma=1, kernel=rbf;, score=-0.086 total time=   0.1s\n",
            "[CV 4/5] END .........C=1, gamma=1, kernel=rbf;, score=-0.137 total time=   0.1s\n",
            "[CV 5/5] END .........C=1, gamma=1, kernel=rbf;, score=-0.169 total time=   0.1s\n",
            "[CV 1/5] END .......C=1, gamma=0.1, kernel=rbf;, score=-0.086 total time=   0.1s\n",
            "[CV 2/5] END .......C=1, gamma=0.1, kernel=rbf;, score=-0.037 total time=   0.1s\n",
            "[CV 3/5] END .......C=1, gamma=0.1, kernel=rbf;, score=-0.086 total time=   0.1s\n",
            "[CV 4/5] END .......C=1, gamma=0.1, kernel=rbf;, score=-0.137 total time=   0.1s\n",
            "[CV 5/5] END .......C=1, gamma=0.1, kernel=rbf;, score=-0.169 total time=   0.1s\n",
            "[CV 1/5] END ......C=1, gamma=0.01, kernel=rbf;, score=-0.087 total time=   0.1s\n",
            "[CV 2/5] END ......C=1, gamma=0.01, kernel=rbf;, score=-0.036 total time=   0.1s\n",
            "[CV 3/5] END ......C=1, gamma=0.01, kernel=rbf;, score=-0.086 total time=   0.1s\n",
            "[CV 4/5] END ......C=1, gamma=0.01, kernel=rbf;, score=-0.136 total time=   0.1s\n",
            "[CV 5/5] END ......C=1, gamma=0.01, kernel=rbf;, score=-0.169 total time=   0.1s\n",
            "[CV 1/5] END .....C=1, gamma=0.001, kernel=rbf;, score=-0.086 total time=   0.1s\n",
            "[CV 2/5] END .....C=1, gamma=0.001, kernel=rbf;, score=-0.035 total time=   0.1s\n",
            "[CV 3/5] END .....C=1, gamma=0.001, kernel=rbf;, score=-0.086 total time=   0.1s\n",
            "[CV 4/5] END .....C=1, gamma=0.001, kernel=rbf;, score=-0.136 total time=   0.1s\n",
            "[CV 5/5] END .....C=1, gamma=0.001, kernel=rbf;, score=-0.169 total time=   0.1s\n",
            "[CV 1/5] END ......C=10, gamma=100, kernel=rbf;, score=-0.086 total time=   0.1s\n",
            "[CV 2/5] END ......C=10, gamma=100, kernel=rbf;, score=-0.038 total time=   0.1s\n",
            "[CV 3/5] END ......C=10, gamma=100, kernel=rbf;, score=-0.086 total time=   0.1s\n",
            "[CV 4/5] END ......C=10, gamma=100, kernel=rbf;, score=-0.137 total time=   0.0s\n",
            "[CV 5/5] END ......C=10, gamma=100, kernel=rbf;, score=-0.169 total time=   0.1s\n",
            "[CV 1/5] END .......C=10, gamma=10, kernel=rbf;, score=-0.086 total time=   0.1s\n",
            "[CV 2/5] END .......C=10, gamma=10, kernel=rbf;, score=-0.038 total time=   0.1s\n",
            "[CV 3/5] END .......C=10, gamma=10, kernel=rbf;, score=-0.086 total time=   0.1s\n",
            "[CV 4/5] END .......C=10, gamma=10, kernel=rbf;, score=-0.137 total time=   0.1s\n",
            "[CV 5/5] END .......C=10, gamma=10, kernel=rbf;, score=-0.169 total time=   0.1s\n",
            "[CV 1/5] END ........C=10, gamma=1, kernel=rbf;, score=-0.086 total time=   0.1s\n",
            "[CV 2/5] END ........C=10, gamma=1, kernel=rbf;, score=-0.038 total time=   0.1s\n",
            "[CV 3/5] END ........C=10, gamma=1, kernel=rbf;, score=-0.086 total time=   0.1s\n",
            "[CV 4/5] END ........C=10, gamma=1, kernel=rbf;, score=-0.137 total time=   0.1s\n",
            "[CV 5/5] END ........C=10, gamma=1, kernel=rbf;, score=-0.169 total time=   0.1s\n",
            "[CV 1/5] END ......C=10, gamma=0.1, kernel=rbf;, score=-0.086 total time=   0.1s\n",
            "[CV 2/5] END ......C=10, gamma=0.1, kernel=rbf;, score=-0.034 total time=   0.1s\n",
            "[CV 3/5] END ......C=10, gamma=0.1, kernel=rbf;, score=-0.085 total time=   0.1s\n",
            "[CV 4/5] END ......C=10, gamma=0.1, kernel=rbf;, score=-0.136 total time=   0.1s\n",
            "[CV 5/5] END ......C=10, gamma=0.1, kernel=rbf;, score=-0.168 total time=   0.1s\n",
            "[CV 1/5] END .....C=10, gamma=0.01, kernel=rbf;, score=-0.092 total time=   0.1s\n",
            "[CV 2/5] END .....C=10, gamma=0.01, kernel=rbf;, score=-0.020 total time=   0.1s\n",
            "[CV 3/5] END .....C=10, gamma=0.01, kernel=rbf;, score=-0.086 total time=   0.1s\n",
            "[CV 4/5] END .....C=10, gamma=0.01, kernel=rbf;, score=-0.144 total time=   0.1s\n",
            "[CV 5/5] END .....C=10, gamma=0.01, kernel=rbf;, score=-0.169 total time=   0.1s\n",
            "[CV 1/5] END ....C=10, gamma=0.001, kernel=rbf;, score=-0.096 total time=   0.1s\n",
            "[CV 2/5] END ....C=10, gamma=0.001, kernel=rbf;, score=-0.017 total time=   0.1s\n",
            "[CV 3/5] END ....C=10, gamma=0.001, kernel=rbf;, score=-0.088 total time=   0.1s\n",
            "[CV 4/5] END ....C=10, gamma=0.001, kernel=rbf;, score=-0.145 total time=   0.1s\n",
            "[CV 5/5] END ....C=10, gamma=0.001, kernel=rbf;, score=-0.167 total time=   0.1s\n",
            "[CV 1/5] END .....C=100, gamma=100, kernel=rbf;, score=-0.086 total time=   0.1s\n",
            "[CV 2/5] END .....C=100, gamma=100, kernel=rbf;, score=-0.038 total time=   0.1s\n",
            "[CV 3/5] END .....C=100, gamma=100, kernel=rbf;, score=-0.085 total time=   0.1s\n",
            "[CV 4/5] END .....C=100, gamma=100, kernel=rbf;, score=-0.137 total time=   0.1s\n",
            "[CV 5/5] END .....C=100, gamma=100, kernel=rbf;, score=-0.168 total time=   0.1s\n",
            "[CV 1/5] END ......C=100, gamma=10, kernel=rbf;, score=-0.086 total time=   0.1s\n",
            "[CV 2/5] END ......C=100, gamma=10, kernel=rbf;, score=-0.038 total time=   0.1s\n",
            "[CV 3/5] END ......C=100, gamma=10, kernel=rbf;, score=-0.085 total time=   0.1s\n",
            "[CV 4/5] END ......C=100, gamma=10, kernel=rbf;, score=-0.137 total time=   0.1s\n",
            "[CV 5/5] END ......C=100, gamma=10, kernel=rbf;, score=-0.168 total time=   0.1s\n",
            "[CV 1/5] END .......C=100, gamma=1, kernel=rbf;, score=-0.085 total time=   0.1s\n",
            "[CV 2/5] END .......C=100, gamma=1, kernel=rbf;, score=-0.036 total time=   0.1s\n",
            "[CV 3/5] END .......C=100, gamma=1, kernel=rbf;, score=-0.084 total time=   0.1s\n",
            "[CV 4/5] END .......C=100, gamma=1, kernel=rbf;, score=-0.136 total time=   0.1s\n",
            "[CV 5/5] END .......C=100, gamma=1, kernel=rbf;, score=-0.167 total time=   0.1s\n",
            "[CV 1/5] END .....C=100, gamma=0.1, kernel=rbf;, score=-0.084 total time=   0.1s\n",
            "[CV 2/5] END .....C=100, gamma=0.1, kernel=rbf;, score=-0.011 total time=   0.1s\n",
            "[CV 3/5] END .....C=100, gamma=0.1, kernel=rbf;, score=-0.082 total time=   0.1s\n",
            "[CV 4/5] END .....C=100, gamma=0.1, kernel=rbf;, score=-0.136 total time=   0.1s\n",
            "[CV 5/5] END .....C=100, gamma=0.1, kernel=rbf;, score=-0.161 total time=   0.1s\n",
            "[CV 1/5] END ....C=100, gamma=0.01, kernel=rbf;, score=-0.179 total time=   0.1s\n",
            "[CV 2/5] END ....C=100, gamma=0.01, kernel=rbf;, score=-0.030 total time=   0.1s\n",
            "[CV 3/5] END ....C=100, gamma=0.01, kernel=rbf;, score=-0.165 total time=   0.1s\n",
            "[CV 4/5] END ....C=100, gamma=0.01, kernel=rbf;, score=-0.196 total time=   0.1s\n",
            "[CV 5/5] END ....C=100, gamma=0.01, kernel=rbf;, score=-0.206 total time=   0.1s\n",
            "[CV 1/5] END ...C=100, gamma=0.001, kernel=rbf;, score=-0.200 total time=   0.1s\n",
            "[CV 2/5] END ...C=100, gamma=0.001, kernel=rbf;, score=-0.039 total time=   0.1s\n",
            "[CV 3/5] END ...C=100, gamma=0.001, kernel=rbf;, score=-0.162 total time=   0.1s\n",
            "[CV 4/5] END ...C=100, gamma=0.001, kernel=rbf;, score=-0.205 total time=   0.1s\n",
            "[CV 5/5] END ...C=100, gamma=0.001, kernel=rbf;, score=-0.207 total time=   0.1s\n",
            "[CV 1/5] END ....C=1000, gamma=100, kernel=rbf;, score=-0.087 total time=   0.1s\n",
            "[CV 2/5] END ....C=1000, gamma=100, kernel=rbf;, score=-0.037 total time=   0.1s\n",
            "[CV 3/5] END ....C=1000, gamma=100, kernel=rbf;, score=-0.088 total time=   0.1s\n",
            "[CV 4/5] END ....C=1000, gamma=100, kernel=rbf;, score=-0.134 total time=   0.1s\n",
            "[CV 5/5] END ....C=1000, gamma=100, kernel=rbf;, score=-0.165 total time=   0.1s\n",
            "[CV 1/5] END .....C=1000, gamma=10, kernel=rbf;, score=-0.086 total time=   0.1s\n",
            "[CV 2/5] END .....C=1000, gamma=10, kernel=rbf;, score=-0.035 total time=   0.1s\n",
            "[CV 3/5] END .....C=1000, gamma=10, kernel=rbf;, score=-0.086 total time=   0.1s\n",
            "[CV 4/5] END .....C=1000, gamma=10, kernel=rbf;, score=-0.134 total time=   0.1s\n",
            "[CV 5/5] END .....C=1000, gamma=10, kernel=rbf;, score=-0.163 total time=   0.1s\n",
            "[CV 1/5] END ......C=1000, gamma=1, kernel=rbf;, score=-0.079 total time=   0.1s\n",
            "[CV 2/5] END ......C=1000, gamma=1, kernel=rbf;, score=-0.024 total time=   0.1s\n",
            "[CV 3/5] END ......C=1000, gamma=1, kernel=rbf;, score=-0.078 total time=   0.1s\n",
            "[CV 4/5] END ......C=1000, gamma=1, kernel=rbf;, score=-0.125 total time=   0.1s\n",
            "[CV 5/5] END ......C=1000, gamma=1, kernel=rbf;, score=-0.154 total time=   0.1s\n",
            "[CV 1/5] END ....C=1000, gamma=0.1, kernel=rbf;, score=-0.138 total time=   0.1s\n",
            "[CV 2/5] END .....C=1000, gamma=0.1, kernel=rbf;, score=0.031 total time=   0.1s\n",
            "[CV 3/5] END ....C=1000, gamma=0.1, kernel=rbf;, score=-0.117 total time=   0.1s\n",
            "[CV 4/5] END ....C=1000, gamma=0.1, kernel=rbf;, score=-0.148 total time=   0.1s\n",
            "[CV 5/5] END ....C=1000, gamma=0.1, kernel=rbf;, score=-0.170 total time=   0.1s\n",
            "[CV 1/5] END ...C=1000, gamma=0.01, kernel=rbf;, score=-0.179 total time=   0.1s\n",
            "[CV 2/5] END ...C=1000, gamma=0.01, kernel=rbf;, score=-0.006 total time=   0.1s\n",
            "[CV 3/5] END ...C=1000, gamma=0.01, kernel=rbf;, score=-0.127 total time=   0.1s\n",
            "[CV 4/5] END ...C=1000, gamma=0.01, kernel=rbf;, score=-0.176 total time=   0.1s\n",
            "[CV 5/5] END ...C=1000, gamma=0.01, kernel=rbf;, score=-0.182 total time=   0.1s\n",
            "[CV 1/5] END ..C=1000, gamma=0.001, kernel=rbf;, score=-0.210 total time=   0.1s\n",
            "[CV 2/5] END ..C=1000, gamma=0.001, kernel=rbf;, score=-0.037 total time=   0.1s\n",
            "[CV 3/5] END ..C=1000, gamma=0.001, kernel=rbf;, score=-0.156 total time=   0.1s\n",
            "[CV 4/5] END ..C=1000, gamma=0.001, kernel=rbf;, score=-0.203 total time=   0.1s\n",
            "[CV 5/5] END ..C=1000, gamma=0.001, kernel=rbf;, score=-0.208 total time=   0.1s\n",
            "[CV 1/5] END ...C=10000, gamma=100, kernel=rbf;, score=-0.049 total time=   0.1s\n",
            "[CV 2/5] END ...C=10000, gamma=100, kernel=rbf;, score=-0.003 total time=   0.1s\n",
            "[CV 3/5] END ...C=10000, gamma=100, kernel=rbf;, score=-0.046 total time=   0.1s\n",
            "[CV 4/5] END ...C=10000, gamma=100, kernel=rbf;, score=-0.072 total time=   0.1s\n",
            "[CV 5/5] END ...C=10000, gamma=100, kernel=rbf;, score=-0.103 total time=   0.1s\n",
            "[CV 1/5] END ....C=10000, gamma=10, kernel=rbf;, score=-0.036 total time=   0.1s\n",
            "[CV 2/5] END .....C=10000, gamma=10, kernel=rbf;, score=0.005 total time=   0.1s\n",
            "[CV 3/5] END ....C=10000, gamma=10, kernel=rbf;, score=-0.028 total time=   0.1s\n",
            "[CV 4/5] END ....C=10000, gamma=10, kernel=rbf;, score=-0.066 total time=   0.3s\n",
            "[CV 5/5] END ....C=10000, gamma=10, kernel=rbf;, score=-0.094 total time=   0.5s\n",
            "[CV 1/5] END ......C=10000, gamma=1, kernel=rbf;, score=0.012 total time=   0.2s\n",
            "[CV 2/5] END ......C=10000, gamma=1, kernel=rbf;, score=0.064 total time=   0.1s\n",
            "[CV 3/5] END ......C=10000, gamma=1, kernel=rbf;, score=0.024 total time=   0.1s\n",
            "[CV 4/5] END .....C=10000, gamma=1, kernel=rbf;, score=-0.003 total time=   0.3s\n",
            "[CV 5/5] END .....C=10000, gamma=1, kernel=rbf;, score=-0.044 total time=   0.5s\n",
            "[CV 1/5] END ....C=10000, gamma=0.1, kernel=rbf;, score=0.165 total time=   0.4s\n",
            "[CV 2/5] END ....C=10000, gamma=0.1, kernel=rbf;, score=0.345 total time=   0.3s\n",
            "[CV 3/5] END ....C=10000, gamma=0.1, kernel=rbf;, score=0.199 total time=   0.3s\n",
            "[CV 4/5] END ....C=10000, gamma=0.1, kernel=rbf;, score=0.129 total time=   0.3s\n",
            "[CV 5/5] END ....C=10000, gamma=0.1, kernel=rbf;, score=0.130 total time=   0.4s\n",
            "[CV 1/5] END ...C=10000, gamma=0.01, kernel=rbf;, score=0.168 total time=   0.5s\n",
            "[CV 2/5] END ...C=10000, gamma=0.01, kernel=rbf;, score=0.316 total time=   0.6s\n",
            "[CV 3/5] END ...C=10000, gamma=0.01, kernel=rbf;, score=0.236 total time=   0.6s\n",
            "[CV 4/5] END ...C=10000, gamma=0.01, kernel=rbf;, score=0.154 total time=   1.1s\n",
            "[CV 5/5] END ...C=10000, gamma=0.01, kernel=rbf;, score=0.166 total time=   0.8s\n",
            "[CV 1/5] END .C=10000, gamma=0.001, kernel=rbf;, score=-0.072 total time=   0.3s\n",
            "[CV 2/5] END ..C=10000, gamma=0.001, kernel=rbf;, score=0.092 total time=   0.3s\n",
            "[CV 3/5] END .C=10000, gamma=0.001, kernel=rbf;, score=-0.009 total time=   0.4s\n",
            "[CV 4/5] END .C=10000, gamma=0.001, kernel=rbf;, score=-0.061 total time=   0.3s\n",
            "[CV 5/5] END .C=10000, gamma=0.001, kernel=rbf;, score=-0.074 total time=   0.5s\n"
          ]
        }
      ]
    },
    {
      "cell_type": "code",
      "source": [
        "grid.best_estimator_"
      ],
      "metadata": {
        "colab": {
          "base_uri": "https://localhost:8080/"
        },
        "id": "RX0b11ZHlTf2",
        "outputId": "c89cd053-fad3-4eaa-fe96-efd89946570a"
      },
      "execution_count": 27,
      "outputs": [
        {
          "output_type": "execute_result",
          "data": {
            "text/plain": [
              "SVR(C=10000, gamma=0.01)"
            ]
          },
          "metadata": {},
          "execution_count": 27
        }
      ]
    },
    {
      "cell_type": "code",
      "source": [
        "svc = SVR(C=10000, gamma=0.01)\n",
        "svc.fit(X_train,y_train)\n",
        "y_pred4=svc.predict(X_test)\n",
        "evaluating_model(y_test,y_pred4)"
      ],
      "metadata": {
        "colab": {
          "base_uri": "https://localhost:8080/"
        },
        "id": "I4F1ZalnlZMz",
        "outputId": "95f0c74c-d987-4549-fa13-296d4b8f3109"
      },
      "execution_count": 28,
      "outputs": [
        {
          "output_type": "stream",
          "name": "stdout",
          "text": [
            "r2_score:  0.32365543620902093\n",
            "MAE:  4768.881343924602\n",
            "MSE:  107626684.952833\n",
            "RMSE:  10374.32816874582\n"
          ]
        }
      ]
    },
    {
      "cell_type": "markdown",
      "source": [
        "SVR working not upto the mark."
      ],
      "metadata": {
        "id": "n9GtskMyl63k"
      }
    },
    {
      "cell_type": "code",
      "source": [
        "from sklearn.tree import DecisionTreeRegressor\n",
        "from sklearn.model_selection import RandomizedSearchCV \n",
        "\n",
        "def randomized_search(params, runs=20, clf=DecisionTreeRegressor(random_state=2)): \n",
        "    rand_clf = RandomizedSearchCV(clf, params, n_iter=runs, cv=5, n_jobs=-1, random_state=2) \n",
        "    rand_clf.fit(X_train, y_train) \n",
        "    best_model = rand_clf.best_estimator_\n",
        "    return best_model\n",
        "\n",
        "\n",
        "randomized_search(params={\n",
        "                          'splitter':['random', 'best'],\n",
        "                          'min_samples_split':[2, 3, 4, 5, 6, 8, 10],\n",
        "                          'min_samples_leaf':[1, 0.01, 0.02, 0.03, 0.04],\n",
        "                          'max_features':['auto', 0.95, 0.90, 0.85, 0.80, 0.75, 0.70],\n",
        "                          'max_depth':[None, 2,4,6,8],\n",
        "                        \n",
        "                         })\n",
        "\n"
      ],
      "metadata": {
        "colab": {
          "base_uri": "https://localhost:8080/"
        },
        "id": "h-ylad2FgnnS",
        "outputId": "165a2c8e-24ab-4b80-bd43-bf1754042574"
      },
      "execution_count": 38,
      "outputs": [
        {
          "output_type": "execute_result",
          "data": {
            "text/plain": [
              "DecisionTreeRegressor(max_features='auto', min_samples_leaf=0.03,\n",
              "                      min_samples_split=6, random_state=2)"
            ]
          },
          "metadata": {},
          "execution_count": 38
        }
      ]
    },
    {
      "cell_type": "code",
      "source": [
        "df_reg=DecisionTreeRegressor(max_features='auto', min_samples_leaf=0.03,\n",
        "                      min_samples_split=6, random_state=2)\n",
        "df_reg.fit(X_train,y_train)\n",
        "y_pred5 = df_reg.predict(X_test)\n",
        "evaluating_model(y_test,y_pred5)"
      ],
      "metadata": {
        "colab": {
          "base_uri": "https://localhost:8080/"
        },
        "id": "-nDc3HnNqSGW",
        "outputId": "e46df60b-d1ea-4f32-e68e-b567c537dbb6"
      },
      "execution_count": 39,
      "outputs": [
        {
          "output_type": "stream",
          "name": "stdout",
          "text": [
            "r2_score:  0.8809436349930304\n",
            "MAE:  2718.123709412825\n",
            "MSE:  18945434.87776831\n",
            "RMSE:  4352.635394536086\n"
          ]
        }
      ]
    },
    {
      "cell_type": "code",
      "source": [
        "plt.scatter(y_test, y_pred5)\n",
        "plt.xlabel(\"Actaul\")\n",
        "plt.ylabel(\"Predicted\")\n",
        "plt.title(\"Actual vs Predicted\")\n",
        "plt.show()"
      ],
      "metadata": {
        "colab": {
          "base_uri": "https://localhost:8080/",
          "height": 295
        },
        "id": "GbNYO_j_EuIv",
        "outputId": "9ff3b08d-6853-4879-cfa1-750ec1ae385d"
      },
      "execution_count": 31,
      "outputs": [
        {
          "output_type": "display_data",
          "data": {
            "text/plain": [
              "<Figure size 432x288 with 1 Axes>"
            ],
            "image/png": "[encoded data removed]"
          },
          "metadata": {
            "needs_background": "light"
          }
        }
      ]
    },
    {
      "cell_type": "code",
      "source": [
        "from sklearn.ensemble import RandomForestRegressor\n",
        "\n",
        "randomized_search(params={'min_samples_leaf':[1,2,4,10,20,30],\n",
        "                          'max_features':['auto', 0.8, 0.7, 0.5, 0.4],\n",
        "                          'max_depth':[None,2,4,6,8,10,20], },clf=RandomForestRegressor(random_state=5))\n"
      ],
      "metadata": {
        "colab": {
          "base_uri": "https://localhost:8080/"
        },
        "id": "N6pi7SpvWRKP",
        "outputId": "3b26224d-908a-4c40-8f82-33445197214f"
      },
      "execution_count": 40,
      "outputs": [
        {
          "output_type": "execute_result",
          "data": {
            "text/plain": [
              "RandomForestRegressor(max_depth=8, max_features=0.7, min_samples_leaf=10,\n",
              "                      random_state=5)"
            ]
          },
          "metadata": {},
          "execution_count": 40
        }
      ]
    },
    {
      "cell_type": "code",
      "source": [
        "rgr=RandomForestRegressor(max_depth=8, max_features=0.7, min_samples_leaf=10,\n",
        "                      random_state=5)\n",
        "rgr.fit(X_train,y_train)\n",
        "y_pred6 = rgr.predict(X_test)\n",
        "evaluating_model(y_test,y_pred6)"
      ],
      "metadata": {
        "colab": {
          "base_uri": "https://localhost:8080/"
        },
        "id": "4Bgjfm8ILCjN",
        "outputId": "b779f744-d78b-401d-d556-235cb20f32c3"
      },
      "execution_count": 48,
      "outputs": [
        {
          "output_type": "stream",
          "name": "stdout",
          "text": [
            "r2_score:  0.9015605245402849\n",
            "MAE:  2457.9637711731625\n",
            "MSE:  15664670.020914283\n",
            "RMSE:  3957.8617991175843\n"
          ]
        }
      ]
    },
    {
      "cell_type": "code",
      "source": [
        "sns.distplot(y_test, hist = False, label = 'Actual')\n",
        "sns.distplot(y_pred6, hist = False, label = 'Predicted')\n",
        "plt.legend()"
      ],
      "metadata": {
        "colab": {
          "base_uri": "https://localhost:8080/",
          "height": 397
        },
        "id": "nMO0Cm5FR4HQ",
        "outputId": "21a71ddd-29e4-442c-e3e8-991e04aca626"
      },
      "execution_count": 66,
      "outputs": [
        {
          "output_type": "stream",
          "name": "stderr",
          "text": [
            "/usr/local/lib/python3.8/dist-packages/seaborn/distributions.py:2619: FutureWarning: `distplot` is a deprecated function and will be removed in a future version. Please adapt your code to use either `displot` (a figure-level function with similar flexibility) or `kdeplot` (an axes-level function for kernel density plots).\n",
            "  warnings.warn(msg, FutureWarning)\n",
            "/usr/local/lib/python3.8/dist-packages/seaborn/distributions.py:2619: FutureWarning: `distplot` is a deprecated function and will be removed in a future version. Please adapt your code to use either `displot` (a figure-level function with similar flexibility) or `kdeplot` (an axes-level function for kernel density plots).\n",
            "  warnings.warn(msg, FutureWarning)\n"
          ]
        },
        {
          "output_type": "execute_result",
          "data": {
            "text/plain": [
              "<matplotlib.legend.Legend at 0x7fa76bca2a60>"
            ]
          },
          "metadata": {},
          "execution_count": 66
        },
        {
          "output_type": "display_data",
          "data": {
            "text/plain": [
              "<Figure size 432x288 with 1 Axes>"
            ],
            "image/png": "[encoded data removed]"
          },
          "metadata": {
            "needs_background": "light"
          }
        }
      ]
    },
    {
      "cell_type": "code",
      "source": [
        "plt.scatter(y_test, y_pred6)\n",
        "plt.xlabel(\"Actaul\")\n",
        "plt.ylabel(\"Predicted\")\n",
        "plt.title(\"Actual vs Predicted\")\n",
        "plt.show()"
      ],
      "metadata": {
        "colab": {
          "base_uri": "https://localhost:8080/",
          "height": 295
        },
        "id": "dkrcjE8SFQtv",
        "outputId": "abe208c3-d29e-4f5b-fbad-cf8d68ead9e1"
      },
      "execution_count": 33,
      "outputs": [
        {
          "output_type": "display_data",
          "data": {
            "text/plain": [
              "<Figure size 432x288 with 1 Axes>"
            ],
            "image/png": "[encoded data removed]"
          },
          "metadata": {
            "needs_background": "light"
          }
        }
      ]
    },
    {
      "cell_type": "markdown",
      "source": [
        "Random Forest Regressor slightly goes better than Decsion tree Regression."
      ],
      "metadata": {
        "id": "DWhUOSt_q7ua"
      }
    },
    {
      "cell_type": "code",
      "source": [
        "from xgboost import XGBRegressor\n",
        "xgb1=XGBRegressor()\n",
        "xgb1.fit(X_train, y_train)\n",
        "y_pred7 = xgb1.predict(X_test)\n",
        "evaluating_model(y_test,y_pred7)\n"
      ],
      "metadata": {
        "colab": {
          "base_uri": "https://localhost:8080/"
        },
        "id": "_lQdva-9rGGt",
        "outputId": "df31beba-91a8-4f08-8be4-b650e9c5adb0"
      },
      "execution_count": 53,
      "outputs": [
        {
          "output_type": "stream",
          "name": "stdout",
          "text": [
            "[03:55:36] WARNING: /workspace/src/objective/regression_obj.cu:152: reg:linear is now deprecated in favor of reg:squarederror.\n",
            "r2_score:  0.8977839346540404\n",
            "MAE:  2416.078533729652\n",
            "MSE:  16265638.627218492\n",
            "RMSE:  4033.068140661461\n"
          ]
        }
      ]
    },
    {
      "cell_type": "code",
      "source": [
        "from xgboost import plot_importance\n",
        "plot_importance(xgb1)\n",
        "plt.show()"
      ],
      "metadata": {
        "colab": {
          "base_uri": "https://localhost:8080/",
          "height": 295
        },
        "id": "KelWb5edQc_i",
        "outputId": "9c96c6f6-0ce8-4cf3-b2cf-611311c3f978"
      },
      "execution_count": 58,
      "outputs": [
        {
          "output_type": "display_data",
          "data": {
            "text/plain": [
              "<Figure size 432x288 with 1 Axes>"
            ],
            "image/png": "[encoded data removed]"
          },
          "metadata": {
            "needs_background": "light"
          }
        }
      ]
    },
    {
      "cell_type": "code",
      "source": [
        "from sklearn.ensemble import GradientBoostingRegressor\n",
        "gdbt = GradientBoostingRegressor()\n",
        "gdbt.fit(X_train,y_train)\n",
        "y_pred8 = gdbt.predict(X_test)\n",
        "evaluating_model(y_test,y_pred8)"
      ],
      "metadata": {
        "colab": {
          "base_uri": "https://localhost:8080/"
        },
        "id": "NrDL3i-sa6Ox",
        "outputId": "8545837b-7f90-4f9c-ae4d-5b1157488e54"
      },
      "execution_count": 57,
      "outputs": [
        {
          "output_type": "stream",
          "name": "stdout",
          "text": [
            "r2_score:  0.89821322640669\n",
            "MAE:  2434.332485863894\n",
            "MSE:  16197325.446794154\n",
            "RMSE:  4024.590096742046\n"
          ]
        }
      ]
    },
    {
      "cell_type": "code",
      "source": [
        "sns.distplot(y_test, hist = False, label = 'Actual')\n",
        "sns.distplot(y_pred8, hist = False, label = 'Predicted')\n",
        "plt.legend()"
      ],
      "metadata": {
        "colab": {
          "base_uri": "https://localhost:8080/",
          "height": 397
        },
        "id": "M726UUXVSSws",
        "outputId": "76510e7e-a630-4df2-9ca2-74f98dc1bb2d"
      },
      "execution_count": 64,
      "outputs": [
        {
          "output_type": "stream",
          "name": "stderr",
          "text": [
            "/usr/local/lib/python3.8/dist-packages/seaborn/distributions.py:2619: FutureWarning: `distplot` is a deprecated function and will be removed in a future version. Please adapt your code to use either `displot` (a figure-level function with similar flexibility) or `kdeplot` (an axes-level function for kernel density plots).\n",
            "  warnings.warn(msg, FutureWarning)\n",
            "/usr/local/lib/python3.8/dist-packages/seaborn/distributions.py:2619: FutureWarning: `distplot` is a deprecated function and will be removed in a future version. Please adapt your code to use either `displot` (a figure-level function with similar flexibility) or `kdeplot` (an axes-level function for kernel density plots).\n",
            "  warnings.warn(msg, FutureWarning)\n"
          ]
        },
        {
          "output_type": "execute_result",
          "data": {
            "text/plain": [
              "<matplotlib.legend.Legend at 0x7fa762693760>"
            ]
          },
          "metadata": {},
          "execution_count": 64
        },
        {
          "output_type": "display_data",
          "data": {
            "text/plain": [
              "<Figure size 432x288 with 1 Axes>"
            ],
            "image/png": "[encoded data removed]"
          },
          "metadata": {
            "needs_background": "light"
          }
        }
      ]
    },
    {
      "cell_type": "markdown",
      "source": [
        "Conclusion:\n",
        "Random forest regressor works best among all and GradientBoostingRegressor works slight better than Xgboost."
      ],
      "metadata": {
        "id": "_gEatSlWNRIT"
      }
    },
    {
      "cell_type": "code",
      "source": [
        "import joblib \n",
        "joblib.dump(rgr, 'model2.pkl') \n",
        "model = joblib.load('model2.pkl' ) \n",
        "model.predict(X_test)"
      ],
      "metadata": {
        "colab": {
          "base_uri": "https://localhost:8080/"
        },
        "id": "sTARTNurQrsZ",
        "outputId": "d54ddf8f-5ca5-4800-d04e-dcf7f4d2654c"
      },
      "execution_count": 59,
      "outputs": [
        {
          "output_type": "execute_result",
          "data": {
            "text/plain": [
              "array([11908.19305761, 10542.85367506, 45029.0223511 , 14218.67885329,\n",
              "       10577.32009237,  6264.89060764,  2764.42259359, 13384.46018389,\n",
              "        7878.54933098,  7058.08041094,  7513.22939295, 12967.26730741,\n",
              "        8437.27426274,  5495.6607129 , 20464.75382771, 12167.63623923,\n",
              "       14031.18861432,  7372.17759502,  7099.58229764, 34397.47616553,\n",
              "       24878.41192481, 15405.55803369, 12182.59856379, 26952.81685516,\n",
              "        3318.19083489,  8137.92502241,  5622.84911592,  8226.14348554,\n",
              "        4373.95613961, 10652.72267699,  8106.48861309, 46416.60416777,\n",
              "       14309.42406725, 11357.33923764, 18020.46790033,  4592.80940531,\n",
              "        9733.23781775, 38574.46314719, 39308.83942676,  3188.66525888,\n",
              "        6299.35517215,  4310.41837045, 21220.31080927, 46215.32722609,\n",
              "       37252.95618046,  6054.72610822, 12167.63623923,  7037.79503717,\n",
              "        6861.73052859, 13391.75081926,  4495.66410488,  6435.05412685,\n",
              "       26585.56778003, 44965.65595719, 11605.2824325 ,  5591.16186378,\n",
              "        3597.22872427, 11437.26864943,  9150.47840295, 15367.16124794,\n",
              "        2431.20447252, 42785.49940611, 16585.36425893, 11756.31622859,\n",
              "       12656.3995521 , 10087.09303548, 34373.55958654, 38648.86046665,\n",
              "        4672.99989954,  8644.37390407, 14343.60570541, 12827.04372236,\n",
              "       18527.16580531, 14562.99840817, 13851.76961556, 14490.75227784,\n",
              "        9715.8769717 ,  9626.96487792, 20888.65067049, 44697.40680281,\n",
              "       12211.75817751, 44273.56804213,  3172.35106039,  9249.16419975,\n",
              "       41331.5456735 , 20469.70149347,  5062.94697586,  4163.44911037,\n",
              "       14562.20959982, 38566.07827798,  8915.8905342 , 12470.65689503,\n",
              "        4568.60073291, 10228.09517869,  6463.07917372,  7969.31484348,\n",
              "       43087.5635604 , 40159.30283272,  7278.20526   , 11206.33453712,\n",
              "        4085.25340802,  6823.77098913,  6476.77276424, 39414.47389267,\n",
              "       24113.02228022,  5326.48117123, 11816.3125023 ,  5073.06593911,\n",
              "       11811.35000877, 43178.09642299, 13894.00253889,  6217.58430854,\n",
              "       11052.36338135, 34605.15713449, 46814.17472636,  7888.05940554,\n",
              "        3090.26600218, 11864.77571318, 15010.03590468, 10241.47623015,\n",
              "       42447.46061249, 11631.49233881, 14048.23207155,  8831.6462215 ,\n",
              "        9010.07660936,  6454.11779928, 25506.25555249, 24151.87400884,\n",
              "       45536.07901875,  3183.09843911,  9824.60671513,  4823.31113209,\n",
              "        6443.12913714, 10711.80431539, 32158.48627511, 38303.98393835,\n",
              "       22104.42216824, 11898.68007808, 24931.16509801,  5450.43074259,\n",
              "        3050.4878223 , 12147.66966508, 10405.22214295, 11941.09788441,\n",
              "        5788.50512184, 14471.88081448, 15420.47168067,  6297.90107272,\n",
              "        2146.04267318, 12640.21375558,  7577.34960065, 39342.87104373,\n",
              "       11273.73906644,  4683.43689559,  5171.00817286,  7417.21402294,\n",
              "        5037.99457416,  4176.00907544, 12625.65275554, 10583.47082062,\n",
              "        8869.9334172 , 13807.02463235, 14170.52188348,  9921.50900337,\n",
              "        5396.13913935,  7924.67805016, 17724.27821441,  9036.69756665,\n",
              "        6469.26258141,  3226.66525948,  7586.80813576,  8104.51762449,\n",
              "        9811.10025529,  3777.08989934,  6184.31727836,  5796.42055668,\n",
              "        7548.87297423,  6898.16440701, 28754.32904945,  2452.82349856,\n",
              "       14885.32530724,  7502.19120224, 11757.68622158,  4202.55845602,\n",
              "        7197.28070443, 27308.86952162,  3544.96839428,  3117.22167606,\n",
              "       14369.24470071, 12002.13109307, 42073.69954132,  6213.30852681,\n",
              "        5693.92853535, 25209.94848921,  4008.37589134,  4656.35855179,\n",
              "        8934.59062478,  9130.69901733,  5995.88725865,  5402.21219539,\n",
              "       12683.96785345, 44407.96301759, 15495.38394396, 19788.70835228,\n",
              "        7709.79878389, 45003.03316227,  6964.84204548, 11493.46417578,\n",
              "        6407.75708975,  3255.09137223, 10742.40238237, 14714.09031541,\n",
              "        6946.7237342 ,  4253.29275667,  6939.11937684,  5472.80611393,\n",
              "        7403.96168387,  7040.19415038, 15293.9823464 ,  7831.32803481,\n",
              "        6408.70819325,  8249.88463053, 11318.07450719,  5155.69873171,\n",
              "       12213.98698838, 14255.46716106, 15430.64575492, 12913.9495394 ,\n",
              "        6709.28982899,  4108.93199567,  3085.88998757, 10807.96412522,\n",
              "       13585.27349242,  7759.62367309,  5274.52063637,  7702.5677963 ,\n",
              "       11863.98606801, 35444.88704128,  7143.78588872, 13777.85755872,\n",
              "        6529.52522156, 37487.55596077,  7928.85873463,  8343.95923286,\n",
              "        9640.54961667, 12384.54077567,  6274.90330607,  9049.74326734,\n",
              "        2895.17436329,  7645.15311712, 19927.13249064, 42901.56333763,\n",
              "        5255.54175842,  5243.69297899,  3253.13637917,  2628.89099745,\n",
              "        8828.66766228,  3247.37714755,  6334.40558686,  5733.81675375,\n",
              "        9072.82675516, 26408.4269843 , 42996.74272678, 17014.31220788,\n",
              "        7023.76950919, 11530.34703685, 40184.14921733, 10470.99006494])"
            ]
          },
          "metadata": {},
          "execution_count": 59
        }
      ]
    },
    {
      "cell_type": "code",
      "source": [],
      "metadata": {
        "id": "KnRVt0ZkQ_lV"
      },
      "execution_count": null,
      "outputs": []
    }
  ]
}